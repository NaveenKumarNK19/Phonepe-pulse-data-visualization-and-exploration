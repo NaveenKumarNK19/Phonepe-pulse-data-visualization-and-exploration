{
 "cells": [
  {
   "cell_type": "code",
   "execution_count": 1,
   "metadata": {},
   "outputs": [],
   "source": [
    "import os\n",
    "import json\n",
    "import pandas as pd\n",
    "import psycopg2"
   ]
  },
  {
   "cell_type": "code",
   "execution_count": 2,
   "metadata": {},
   "outputs": [],
   "source": [
    "#agg insurance\n",
    "\n",
    "path1 = \"D:/VS_code/PhonePe/pulse/data/aggregated/insurance/country/india/state/\"\n",
    "agg_insur_list = os.listdir(path1)\n",
    "\n",
    "columns1 = {'States' : [], \"Years\" : [], \"Quarter\" : [], \"Transaction_type\" : [], \"Transaction_count\" : [], \"Transaction_amount\" : []}\n",
    "\n",
    "for state in agg_insur_list:\n",
    "    cur_states = path1 + state + \"/\"\n",
    "    agg_year_list = os.listdir(cur_states)\n",
    "\n",
    "    for year in agg_year_list:\n",
    "        cur_year = cur_states + year + \"/\"\n",
    "        agg_file_list = os.listdir(cur_year)\n",
    "\n",
    "        for file in agg_file_list:\n",
    "            cur_file = cur_year + file\n",
    "            data = open(cur_file, 'r')\n",
    "\n",
    "            A = json.load(data)\n",
    "\n",
    "            for i in A[\"data\"][\"transactionData\"]:\n",
    "                name = i[\"name\"]\n",
    "                count = i['paymentInstruments'][0]['count']\n",
    "                amount = i['paymentInstruments'][0]['amount']\n",
    "                columns1[\"Transaction_type\"].append(name)\n",
    "                columns1['Transaction_count'].append(count)\n",
    "                columns1['Transaction_amount'].append(amount)\n",
    "                columns1['States'].append(state)\n",
    "                columns1['Years'].append(year)\n",
    "                columns1['Quarter'].append(int(file.strip(\".json\")))"
   ]
  },
  {
   "cell_type": "code",
   "execution_count": 3,
   "metadata": {},
   "outputs": [],
   "source": [
    "aggre_insurance = pd.DataFrame(columns1)"
   ]
  },
  {
   "cell_type": "code",
   "execution_count": 4,
   "metadata": {},
   "outputs": [
    {
     "data": {
      "text/plain": [
       "array(['Andaman & Nicobar', 'Andhra Pradesh', 'Arunachal Pradesh',\n",
       "       'Assam', 'Bihar', 'Chandigarh', 'Chhattisgarh',\n",
       "       'Dadra and Nagar Haveli and Daman and Diu', 'Delhi', 'Goa',\n",
       "       'Gujarat', 'Haryana', 'Himachal Pradesh', 'Jammu & Kashmir',\n",
       "       'Jharkhand', 'Karnataka', 'Kerala', 'Ladakh', 'Lakshadweep',\n",
       "       'Madhya Pradesh', 'Maharashtra', 'Manipur', 'Meghalaya', 'Mizoram',\n",
       "       'Nagaland', 'Odisha', 'Puducherry', 'Punjab', 'Rajasthan',\n",
       "       'Sikkim', 'Tamil Nadu', 'Telangana', 'Tripura', 'Uttar Pradesh',\n",
       "       'Uttarakhand', 'West Bengal'], dtype=object)"
      ]
     },
     "execution_count": 4,
     "metadata": {},
     "output_type": "execute_result"
    }
   ],
   "source": [
    "aggre_insurance['States'] = aggre_insurance['States'].str.replace('andaman-&-nicobar-islands','Andaman & Nicobar')\n",
    "aggre_insurance['States'] = aggre_insurance['States'].str.replace('-',' ')\n",
    "aggre_insurance['States'] = aggre_insurance['States'].str.title()\n",
    "aggre_insurance['States'] = aggre_insurance['States'].str.replace('Dadra & Nagar Haveli & Daman & Diu','Dadra and Nagar Haveli and Daman and Diu')\n",
    "aggre_insurance['States'].unique()"
   ]
  },
  {
   "cell_type": "code",
   "execution_count": 5,
   "metadata": {},
   "outputs": [],
   "source": [
    "#aggregated transaction\n",
    "\n",
    "path2 = \"D:/VS_code/PhonePe/pulse/data/aggregated/transaction/country/india/state/\"\n",
    "agg_trans_list = os.listdir(path2)\n",
    "\n",
    "columns2 = {'States' : [], \"Years\" : [], \"Quarter\" : [], \"Transaction_type\" : [], \"Transaction_count\" : [], \"Transaction_amount\" : []}\n",
    "\n",
    "for state in agg_trans_list:\n",
    "    cur_states = path2 + state + \"/\"\n",
    "    agg_year_list = os.listdir(cur_states)\n",
    "\n",
    "    for year in agg_year_list:\n",
    "        cur_year = cur_states + year + \"/\"\n",
    "        agg_file_list = os.listdir(cur_year)\n",
    "\n",
    "        for file in agg_file_list:\n",
    "            cur_file = cur_year + file\n",
    "            data = open(cur_file, 'r')\n",
    "\n",
    "            B = json.load(data)\n",
    "\n",
    "            for i in B[\"data\"][\"transactionData\"]:\n",
    "                name = i[\"name\"]\n",
    "                count = i['paymentInstruments'][0]['count']\n",
    "                amount = i['paymentInstruments'][0]['amount']\n",
    "                columns2[\"Transaction_type\"].append(name)\n",
    "                columns2['Transaction_count'].append(count)\n",
    "                columns2['Transaction_amount'].append(amount)\n",
    "                columns2['States'].append(state)\n",
    "                columns2['Years'].append(year)\n",
    "                columns2['Quarter'].append(int(file.strip(\".json\")))"
   ]
  },
  {
   "cell_type": "code",
   "execution_count": 6,
   "metadata": {},
   "outputs": [],
   "source": [
    "# for i in A[\"data\"][\"transactionData\"]:\n",
    "#     name = i[\"name\"]\n",
    "#     count = i['paymentInstruments'][0]['count']\n",
    "#     amount = i['paymentInstruments'][0]['amount']\n",
    "#     columns1[\"Transaction_type\"].append(name)\n",
    "#     columns1['Transaction_count'].append(count)\n",
    "#     columns1['Transaction_amount'].append(amount)\n",
    "#     columns1['States'].append(state)\n",
    "#     columns1['Years'].append(year)\n",
    "#     columns1['Quarter'].append(int(file.strip(\".json\")))"
   ]
  },
  {
   "cell_type": "code",
   "execution_count": 7,
   "metadata": {},
   "outputs": [],
   "source": [
    "aggre_transaction = pd.DataFrame(columns2)"
   ]
  },
  {
   "cell_type": "code",
   "execution_count": 8,
   "metadata": {},
   "outputs": [
    {
     "data": {
      "text/plain": [
       "array(['Andaman & Nicobar', 'Andhra Pradesh', 'Arunachal Pradesh',\n",
       "       'Assam', 'Bihar', 'Chandigarh', 'Chhattisgarh',\n",
       "       'Dadra and Nagar Haveli and Daman and Diu', 'Delhi', 'Goa',\n",
       "       'Gujarat', 'Haryana', 'Himachal Pradesh', 'Jammu & Kashmir',\n",
       "       'Jharkhand', 'Karnataka', 'Kerala', 'Ladakh', 'Lakshadweep',\n",
       "       'Madhya Pradesh', 'Maharashtra', 'Manipur', 'Meghalaya', 'Mizoram',\n",
       "       'Nagaland', 'Odisha', 'Puducherry', 'Punjab', 'Rajasthan',\n",
       "       'Sikkim', 'Tamil Nadu', 'Telangana', 'Tripura', 'Uttar Pradesh',\n",
       "       'Uttarakhand', 'West Bengal'], dtype=object)"
      ]
     },
     "execution_count": 8,
     "metadata": {},
     "output_type": "execute_result"
    }
   ],
   "source": [
    "aggre_transaction['States'] = aggre_transaction['States'].str.replace('andaman-&-nicobar-islands','Andaman & Nicobar')\n",
    "aggre_transaction['States'] = aggre_transaction['States'].str.replace('-',' ')\n",
    "aggre_transaction['States'] = aggre_transaction['States'].str.title()\n",
    "aggre_transaction['States'] = aggre_transaction['States'].str.replace('Dadra & Nagar Haveli & Daman & Diu','Dadra and Nagar Haveli and Daman and Diu')\n",
    "aggre_transaction['States'].unique()"
   ]
  },
  {
   "cell_type": "code",
   "execution_count": 9,
   "metadata": {},
   "outputs": [],
   "source": [
    "#aggre_user\n",
    "\n",
    "path3 = \"D:/VS_code/PhonePe/pulse/data/aggregated/user/country/india/state/\"\n",
    "agg_user_list = os.listdir(path3)\n",
    "\n",
    "columns3 = {'States' : [], \"Years\" : [], \"Quarter\" : [], \"Brand\" : [], \"Transaction_count\" : [], \"Percentage\" : []}\n",
    "\n",
    "for state in agg_user_list:\n",
    "    cur_states = path3 + state + \"/\"\n",
    "    agg_year_list = os.listdir(cur_states)\n",
    "\n",
    "    for year in agg_year_list:\n",
    "        cur_year = cur_states + year + \"/\"\n",
    "        agg_file_list = os.listdir(cur_year)\n",
    "\n",
    "        for file in agg_file_list:\n",
    "            cur_file = cur_year + file\n",
    "            data = open(cur_file, 'r')\n",
    "\n",
    "            C = json.load(data)\n",
    "\n",
    "            try:\n",
    "                for i in C[\"data\"][\"usersByDevice\"]:\n",
    "                    brand = i[\"brand\"]\n",
    "                    count = i['count']\n",
    "                    percentage = i['percentage']\n",
    "                    columns3[\"Brand\"].append(brand)\n",
    "                    columns3['Transaction_count'].append(count)\n",
    "                    columns3['Percentage'].append(percentage)\n",
    "                    columns3['States'].append(state)\n",
    "                    columns3['Years'].append(year)\n",
    "                    columns3['Quarter'].append(int(file.strip(\".json\")))\n",
    "\n",
    "            except:\n",
    "                pass\n",
    "            "
   ]
  },
  {
   "cell_type": "code",
   "execution_count": 10,
   "metadata": {},
   "outputs": [],
   "source": [
    "aggre_user = pd.DataFrame(columns3)"
   ]
  },
  {
   "cell_type": "code",
   "execution_count": 11,
   "metadata": {},
   "outputs": [
    {
     "data": {
      "text/plain": [
       "array(['Andaman & Nicobar', 'Andhra Pradesh', 'Arunachal Pradesh',\n",
       "       'Assam', 'Bihar', 'Chandigarh', 'Chhattisgarh',\n",
       "       'Dadra and Nagar Haveli and Daman and Diu', 'Delhi', 'Goa',\n",
       "       'Gujarat', 'Haryana', 'Himachal Pradesh', 'Jammu & Kashmir',\n",
       "       'Jharkhand', 'Karnataka', 'Kerala', 'Ladakh', 'Lakshadweep',\n",
       "       'Madhya Pradesh', 'Maharashtra', 'Manipur', 'Meghalaya', 'Mizoram',\n",
       "       'Nagaland', 'Odisha', 'Puducherry', 'Punjab', 'Rajasthan',\n",
       "       'Sikkim', 'Tamil Nadu', 'Telangana', 'Tripura', 'Uttar Pradesh',\n",
       "       'Uttarakhand', 'West Bengal'], dtype=object)"
      ]
     },
     "execution_count": 11,
     "metadata": {},
     "output_type": "execute_result"
    }
   ],
   "source": [
    "aggre_user['States'] = aggre_user['States'].str.replace('andaman-&-nicobar-islands','Andaman & Nicobar')\n",
    "aggre_user['States'] = aggre_user['States'].str.replace('-',' ')\n",
    "aggre_user['States'] = aggre_user['States'].str.title()\n",
    "aggre_user['States'] = aggre_user['States'].str.replace('Dadra & Nagar Haveli & Daman & Diu','Dadra and Nagar Haveli and Daman and Diu')\n",
    "aggre_user['States'].unique()"
   ]
  },
  {
   "cell_type": "code",
   "execution_count": 12,
   "metadata": {},
   "outputs": [],
   "source": [
    "# for i in B[\"data\"][\"userByDevice\"]:\n",
    "#     brand = i[\"brand\"]\n",
    "#     count = i['count']\n",
    "#     percentage = i['percentage']\n",
    "#     columns2[\"Brand\"].append(brand)\n",
    "#     columns2['Transaction_count'].append(count)\n",
    "#     columns2['Percentage'].append(percentage)\n",
    "#     columns2['States'].append(state)\n",
    "#     columns2['Years'].append(year)\n",
    "#     columns2['Quarter'].append(int(file.strip(\".json\")))"
   ]
  },
  {
   "cell_type": "code",
   "execution_count": 13,
   "metadata": {},
   "outputs": [],
   "source": [
    "# for state in agg_trans_list:\n",
    "#     cur_states = path2+state+\"/\"\n",
    "#     agg_year_list = os.listdir(cur_states)\n",
    "\n",
    "#     for year in agg_year_list:\n",
    "#         cur_year = cur_states + year + \"/\"\n",
    "#         agg_file_list = os.listdir(cur_year)\n",
    "\n",
    "#         for file in agg_file_list:\n",
    "#             cur_file = cur_year + file\n",
    "#             data = open(cur_file, 'r')\n",
    "\n",
    "#             B = json.load(data)\n",
    "#             print(B)"
   ]
  },
  {
   "cell_type": "code",
   "execution_count": 14,
   "metadata": {},
   "outputs": [],
   "source": [
    "#map insurance\n",
    "\n",
    "path4 = \"D:/VS_code/PhonePe/pulse/data/map/insurance/hover/country/india/state/\"\n",
    "map_insur_list = os.listdir(path4)\n",
    "\n",
    "columns4 = {'States' : [], \"Years\" : [], \"Quarter\" : [], \"Districts\" : [], \"Transaction_count\" : [], \"Transaction_amount\" : []}\n",
    "\n",
    "for state in map_insur_list:\n",
    "    cur_states = path4 + state + \"/\"\n",
    "    agg_year_list = os.listdir(cur_states)\n",
    "\n",
    "    for year in agg_year_list:\n",
    "        cur_year = cur_states + year + \"/\"\n",
    "        agg_file_list = os.listdir(cur_year)\n",
    "\n",
    "        for file in agg_file_list:\n",
    "            cur_file = cur_year + file\n",
    "            data = open(cur_file, 'r')\n",
    "\n",
    "            D = json.load(data)\n",
    "            for i in D['data']['hoverDataList']:\n",
    "                    name = i['name']\n",
    "                    count = i['metric'][0]['count']\n",
    "                    amount = i['metric'][0]['amount']\n",
    "                    columns4[\"Districts\"].append(name)\n",
    "                    columns4['Transaction_count'].append(count)\n",
    "                    columns4['Transaction_amount'].append(amount)\n",
    "                    columns4['States'].append(state)\n",
    "                    columns4['Years'].append(year)\n",
    "                    columns4['Quarter'].append(int(file.strip(\".json\")))"
   ]
  },
  {
   "cell_type": "code",
   "execution_count": 15,
   "metadata": {},
   "outputs": [],
   "source": [
    "map_insurance = pd.DataFrame(columns4)"
   ]
  },
  {
   "cell_type": "code",
   "execution_count": 16,
   "metadata": {},
   "outputs": [
    {
     "data": {
      "text/plain": [
       "array(['Andaman & Nicobar', 'Andhra Pradesh', 'Arunachal Pradesh',\n",
       "       'Assam', 'Bihar', 'Chandigarh', 'Chhattisgarh',\n",
       "       'Dadra and Nagar Haveli and Daman and Diu', 'Delhi', 'Goa',\n",
       "       'Gujarat', 'Haryana', 'Himachal Pradesh', 'Jammu & Kashmir',\n",
       "       'Jharkhand', 'Karnataka', 'Kerala', 'Ladakh', 'Lakshadweep',\n",
       "       'Madhya Pradesh', 'Maharashtra', 'Manipur', 'Meghalaya', 'Mizoram',\n",
       "       'Nagaland', 'Odisha', 'Puducherry', 'Punjab', 'Rajasthan',\n",
       "       'Sikkim', 'Tamil Nadu', 'Telangana', 'Tripura', 'Uttar Pradesh',\n",
       "       'Uttarakhand', 'West Bengal'], dtype=object)"
      ]
     },
     "execution_count": 16,
     "metadata": {},
     "output_type": "execute_result"
    }
   ],
   "source": [
    "map_insurance['States'] = map_insurance['States'].str.replace('andaman-&-nicobar-islands','Andaman & Nicobar')\n",
    "map_insurance['States'] = map_insurance['States'].str.replace('-',' ')\n",
    "map_insurance['States'] = map_insurance['States'].str.title()\n",
    "map_insurance['States'] = map_insurance['States'].str.replace('Dadra & Nagar Haveli & Daman & Diu','Dadra and Nagar Haveli and Daman and Diu')\n",
    "map_insurance['States'].unique()"
   ]
  },
  {
   "cell_type": "code",
   "execution_count": 17,
   "metadata": {},
   "outputs": [],
   "source": [
    "#Map_transation\n",
    "\n",
    "path5 = \"D:/VS_code/PhonePe/pulse/data/map/transaction/hover/country/india/state/\"\n",
    "map_tran_list = os.listdir(path5)\n",
    "\n",
    "columns5 = {'States' : [], \"Years\" : [], \"Quarter\" : [], \"Districts\" : [], \"Transaction_count\" : [], \"Transaction_amount\" : []}\n",
    "\n",
    "for state in map_tran_list:\n",
    "    cur_states = path5 + state + \"/\"\n",
    "    agg_year_list = os.listdir(cur_states)\n",
    "\n",
    "    for year in agg_year_list:\n",
    "        cur_year = cur_states + year + \"/\"\n",
    "        agg_file_list = os.listdir(cur_year)\n",
    "\n",
    "        for file in agg_file_list:\n",
    "            cur_file = cur_year + file\n",
    "            data = open(cur_file, 'r')\n",
    "\n",
    "            E = json.load(data)\n",
    "            for i in E['data']['hoverDataList']:\n",
    "                    name = i['name']\n",
    "                    count = i['metric'][0]['count']\n",
    "                    amount = i['metric'][0]['amount']\n",
    "                    columns5[\"Districts\"].append(name)\n",
    "                    columns5['Transaction_count'].append(count)\n",
    "                    columns5['Transaction_amount'].append(amount)\n",
    "                    columns5['States'].append(state)\n",
    "                    columns5['Years'].append(year)\n",
    "                    columns5['Quarter'].append(int(file.strip(\".json\")))"
   ]
  },
  {
   "cell_type": "code",
   "execution_count": 18,
   "metadata": {},
   "outputs": [],
   "source": [
    "# for i in C['data']['hoverDataList']:\n",
    "#     name = i['name']\n",
    "#     count = i['metric'][0]['count']\n",
    "#     amount = i['metric'][0]['amount']"
   ]
  },
  {
   "cell_type": "code",
   "execution_count": 19,
   "metadata": {},
   "outputs": [],
   "source": [
    "map_transaction = pd.DataFrame(columns5)"
   ]
  },
  {
   "cell_type": "code",
   "execution_count": 20,
   "metadata": {},
   "outputs": [
    {
     "data": {
      "text/plain": [
       "array(['Andaman & Nicobar', 'Andhra Pradesh', 'Arunachal Pradesh',\n",
       "       'Assam', 'Bihar', 'Chandigarh', 'Chhattisgarh',\n",
       "       'Dadra and Nagar Haveli and Daman and Diu', 'Delhi', 'Goa',\n",
       "       'Gujarat', 'Haryana', 'Himachal Pradesh', 'Jammu & Kashmir',\n",
       "       'Jharkhand', 'Karnataka', 'Kerala', 'Ladakh', 'Lakshadweep',\n",
       "       'Madhya Pradesh', 'Maharashtra', 'Manipur', 'Meghalaya', 'Mizoram',\n",
       "       'Nagaland', 'Odisha', 'Puducherry', 'Punjab', 'Rajasthan',\n",
       "       'Sikkim', 'Tamil Nadu', 'Telangana', 'Tripura', 'Uttar Pradesh',\n",
       "       'Uttarakhand', 'West Bengal'], dtype=object)"
      ]
     },
     "execution_count": 20,
     "metadata": {},
     "output_type": "execute_result"
    }
   ],
   "source": [
    "map_transaction['States'] = map_transaction['States'].str.replace('andaman-&-nicobar-islands','Andaman & Nicobar')\n",
    "map_transaction['States'] = map_transaction['States'].str.replace('-',' ')\n",
    "map_transaction['States'] = map_transaction['States'].str.title()\n",
    "map_transaction['States'] = map_transaction['States'].str.replace('Dadra & Nagar Haveli & Daman & Diu','Dadra and Nagar Haveli and Daman and Diu')\n",
    "map_transaction['States'].unique()"
   ]
  },
  {
   "cell_type": "code",
   "execution_count": 21,
   "metadata": {},
   "outputs": [],
   "source": [
    "#map_user\n",
    "\n",
    "path6 = \"D:/VS_code/PhonePe/pulse/data/map/user/hover/country/india/state/\"\n",
    "map_user_list = os.listdir(path6)\n",
    "\n",
    "columns6 = {'States' : [], \"Years\" : [], \"Quarter\" : [], \"Districts\" : [], \"RegisteredUsers\" : [], \"AppOpens\" : []}\n",
    "\n",
    "for state in map_user_list:\n",
    "    cur_states = path6 + state + \"/\"\n",
    "    agg_year_list = os.listdir(cur_states)\n",
    "\n",
    "    for year in agg_year_list:\n",
    "        cur_year = cur_states + year + \"/\"\n",
    "        agg_file_list = os.listdir(cur_year)\n",
    "\n",
    "        for file in agg_file_list:\n",
    "            cur_file = cur_year + file\n",
    "            data = open(cur_file, 'r')\n",
    "\n",
    "            F = json.load(data)\n",
    "\n",
    "            for i in F['data']['hoverData'].items():\n",
    "                district = i[0]\n",
    "                registerUsers = i[1]['registeredUsers']\n",
    "                appOpens = i[1]['appOpens']\n",
    "                columns6[\"Districts\"].append(district)\n",
    "                columns6['RegisteredUsers'].append(registerUsers)\n",
    "                columns6['AppOpens'].append(appOpens)\n",
    "                columns6['States'].append(state)\n",
    "                columns6['Years'].append(year)\n",
    "                columns6['Quarter'].append(int(file.strip(\".json\")))"
   ]
  },
  {
   "cell_type": "code",
   "execution_count": 22,
   "metadata": {},
   "outputs": [],
   "source": [
    "# for i in D['data']['hoverData'].items():\n",
    "#     district = i[0]\n",
    "#     registerUsers = i[0]['registerUsres']\n",
    "#     appOpens = i[1]['appOpens']\n",
    "#     columns4[\"Districts\"].append(district)\n",
    "#     columns4['RegisterUsers'].append(registerUsers)\n",
    "#     columns4['AppOpens'].append(appOpens)\n",
    "#     columns4['States'].append(state)\n",
    "#     columns4['Years'].append(year)\n",
    "#     columns4['Quarter'].append(int(file.strip(\".json\")))"
   ]
  },
  {
   "cell_type": "code",
   "execution_count": 23,
   "metadata": {},
   "outputs": [],
   "source": [
    "map_user = pd.DataFrame(columns6)"
   ]
  },
  {
   "cell_type": "code",
   "execution_count": 24,
   "metadata": {},
   "outputs": [
    {
     "data": {
      "text/plain": [
       "array(['Andaman & Nicobar', 'Andhra Pradesh', 'Arunachal Pradesh',\n",
       "       'Assam', 'Bihar', 'Chandigarh', 'Chhattisgarh',\n",
       "       'Dadra and Nagar Haveli and Daman and Diu', 'Delhi', 'Goa',\n",
       "       'Gujarat', 'Haryana', 'Himachal Pradesh', 'Jammu & Kashmir',\n",
       "       'Jharkhand', 'Karnataka', 'Kerala', 'Ladakh', 'Lakshadweep',\n",
       "       'Madhya Pradesh', 'Maharashtra', 'Manipur', 'Meghalaya', 'Mizoram',\n",
       "       'Nagaland', 'Odisha', 'Puducherry', 'Punjab', 'Rajasthan',\n",
       "       'Sikkim', 'Tamil Nadu', 'Telangana', 'Tripura', 'Uttar Pradesh',\n",
       "       'Uttarakhand', 'West Bengal'], dtype=object)"
      ]
     },
     "execution_count": 24,
     "metadata": {},
     "output_type": "execute_result"
    }
   ],
   "source": [
    "map_user['States'] = map_user['States'].str.replace('andaman-&-nicobar-islands','Andaman & Nicobar')\n",
    "map_user['States'] = map_user['States'].str.replace('-',' ')\n",
    "map_user['States'] = map_user['States'].str.title()\n",
    "map_user['States'] = map_user['States'].str.replace('Dadra & Nagar Haveli & Daman & Diu','Dadra and Nagar Haveli and Daman and Diu')\n",
    "map_user['States'].unique()"
   ]
  },
  {
   "cell_type": "code",
   "execution_count": 25,
   "metadata": {},
   "outputs": [],
   "source": [
    "#top insurance\n",
    "\n",
    "path7 = \"D:/VS_code/PhonePe/pulse/data/top/insurance/country/india/state/\"\n",
    "top_insur_list = os.listdir(path7)\n",
    "\n",
    "columns7 = {'States' : [], \"Years\" : [], \"Quarter\" : [], \"Pincodes\" : [], \"Transaction_count\" : [], \"Transaction_amount\" : []}\n",
    "\n",
    "for state in top_insur_list:\n",
    "    cur_states = path7 + state + \"/\"\n",
    "    agg_year_list = os.listdir(cur_states)\n",
    "\n",
    "    for year in agg_year_list:\n",
    "        cur_year = cur_states + year + \"/\"\n",
    "        agg_file_list = os.listdir(cur_year)\n",
    "\n",
    "        for file in agg_file_list:\n",
    "            cur_file = cur_year + file\n",
    "            data = open(cur_file, 'r')\n",
    "\n",
    "            G = json.load(data)\n",
    "\n",
    "            for i in G['data']['pincodes']:\n",
    "                entityname = i['entityName']\n",
    "                count = i['metric']['count']\n",
    "                amount = i['metric']['amount']\n",
    "                columns7[\"Pincodes\"].append(entityname)\n",
    "                columns7['Transaction_count'].append(count)\n",
    "                columns7['Transaction_amount'].append(amount)\n",
    "                columns7['States'].append(state)\n",
    "                columns7['Years'].append(year)\n",
    "                columns7['Quarter'].append(int(file.strip(\".json\")))"
   ]
  },
  {
   "cell_type": "code",
   "execution_count": 26,
   "metadata": {},
   "outputs": [],
   "source": [
    "top_insurance = pd.DataFrame(columns7)"
   ]
  },
  {
   "cell_type": "code",
   "execution_count": 27,
   "metadata": {},
   "outputs": [
    {
     "data": {
      "text/plain": [
       "array(['Andaman & Nicobar', 'Andhra Pradesh', 'Arunachal Pradesh',\n",
       "       'Assam', 'Bihar', 'Chandigarh', 'Chhattisgarh',\n",
       "       'Dadra and Nagar Haveli and Daman and Diu', 'Delhi', 'Goa',\n",
       "       'Gujarat', 'Haryana', 'Himachal Pradesh', 'Jammu & Kashmir',\n",
       "       'Jharkhand', 'Karnataka', 'Kerala', 'Ladakh', 'Lakshadweep',\n",
       "       'Madhya Pradesh', 'Maharashtra', 'Manipur', 'Meghalaya', 'Mizoram',\n",
       "       'Nagaland', 'Odisha', 'Puducherry', 'Punjab', 'Rajasthan',\n",
       "       'Sikkim', 'Tamil Nadu', 'Telangana', 'Tripura', 'Uttar Pradesh',\n",
       "       'Uttarakhand', 'West Bengal'], dtype=object)"
      ]
     },
     "execution_count": 27,
     "metadata": {},
     "output_type": "execute_result"
    }
   ],
   "source": [
    "top_insurance['States'] = top_insurance['States'].str.replace('andaman-&-nicobar-islands','Andaman & Nicobar')\n",
    "top_insurance['States'] = top_insurance['States'].str.replace('-',' ')\n",
    "top_insurance['States'] = top_insurance['States'].str.title()\n",
    "top_insurance['States'] = top_insurance['States'].str.replace('Dadra & Nagar Haveli & Daman & Diu','Dadra and Nagar Haveli and Daman and Diu')\n",
    "top_insurance['States'].unique()"
   ]
  },
  {
   "cell_type": "code",
   "execution_count": 28,
   "metadata": {},
   "outputs": [],
   "source": [
    "#top Transaction\n",
    "\n",
    "path8 = \"D:/VS_code/PhonePe/pulse/data/top/transaction/country/india/state/\"\n",
    "top_trans_list = os.listdir(path8)\n",
    "\n",
    "columns8 = {'States' : [], \"Years\" : [], \"Quarter\" : [], \"Pincodes\" : [], \"Transaction_count\" : [], \"Transaction_amount\" : []}\n",
    "\n",
    "for state in top_trans_list:\n",
    "    cur_states = path8 + state + \"/\"\n",
    "    agg_year_list = os.listdir(cur_states)\n",
    "\n",
    "    for year in agg_year_list:\n",
    "        cur_year = cur_states + year + \"/\"\n",
    "        agg_file_list = os.listdir(cur_year)\n",
    "\n",
    "        for file in agg_file_list:\n",
    "            cur_file = cur_year + file\n",
    "            data = open(cur_file, 'r')\n",
    "\n",
    "            H = json.load(data)\n",
    "\n",
    "            for i in H['data']['pincodes']:\n",
    "                entityname = i['entityName']\n",
    "                count = i['metric']['count']\n",
    "                amount = i['metric']['amount']\n",
    "                columns8[\"Pincodes\"].append(entityname)\n",
    "                columns8['Transaction_count'].append(count)\n",
    "                columns8['Transaction_amount'].append(amount)\n",
    "                columns8['States'].append(state)\n",
    "                columns8['Years'].append(year)\n",
    "                columns8['Quarter'].append(int(file.strip(\".json\")))"
   ]
  },
  {
   "cell_type": "code",
   "execution_count": 29,
   "metadata": {},
   "outputs": [],
   "source": [
    "top_transaction = pd.DataFrame(columns8)"
   ]
  },
  {
   "cell_type": "code",
   "execution_count": 30,
   "metadata": {},
   "outputs": [
    {
     "data": {
      "text/plain": [
       "array(['Andaman & Nicobar', 'Andhra Pradesh', 'Arunachal Pradesh',\n",
       "       'Assam', 'Bihar', 'Chandigarh', 'Chhattisgarh',\n",
       "       'Dadra and Nagar Haveli and Daman and Diu', 'Delhi', 'Goa',\n",
       "       'Gujarat', 'Haryana', 'Himachal Pradesh', 'Jammu & Kashmir',\n",
       "       'Jharkhand', 'Karnataka', 'Kerala', 'Ladakh', 'Lakshadweep',\n",
       "       'Madhya Pradesh', 'Maharashtra', 'Manipur', 'Meghalaya', 'Mizoram',\n",
       "       'Nagaland', 'Odisha', 'Puducherry', 'Punjab', 'Rajasthan',\n",
       "       'Sikkim', 'Tamil Nadu', 'Telangana', 'Tripura', 'Uttar Pradesh',\n",
       "       'Uttarakhand', 'West Bengal'], dtype=object)"
      ]
     },
     "execution_count": 30,
     "metadata": {},
     "output_type": "execute_result"
    }
   ],
   "source": [
    "top_transaction['States'] = top_transaction['States'].str.replace('andaman-&-nicobar-islands','Andaman & Nicobar')\n",
    "top_transaction['States'] = top_transaction['States'].str.replace('-',' ')\n",
    "top_transaction['States'] = top_transaction['States'].str.title()\n",
    "top_transaction['States'] = top_transaction['States'].str.replace('Dadra & Nagar Haveli & Daman & Diu','Dadra and Nagar Haveli and Daman and Diu')\n",
    "top_transaction['States'].unique()"
   ]
  },
  {
   "cell_type": "code",
   "execution_count": 31,
   "metadata": {},
   "outputs": [],
   "source": [
    "#top User\n",
    "\n",
    "path9 = \"D:/VS_code/PhonePe/pulse/data/top/user/country/india/state/\"\n",
    "top_user_list = os.listdir(path9)\n",
    "\n",
    "columns9 = {'States' : [], \"Years\" : [], \"Quarter\" : [], \"Pincodes\" : [], \"RegisteredUsers\" : []}\n",
    "\n",
    "for state in top_user_list:\n",
    "    cur_states = path9 + state + \"/\"\n",
    "    agg_year_list = os.listdir(cur_states)\n",
    "\n",
    "    for year in agg_year_list:\n",
    "        cur_year = cur_states + year + \"/\"\n",
    "        agg_file_list = os.listdir(cur_year)\n",
    "\n",
    "        for file in agg_file_list:\n",
    "            cur_file = cur_year + file\n",
    "            data = open(cur_file, 'r')\n",
    "\n",
    "            I = json.load(data)\n",
    "\n",
    "            for i in I['data']['pincodes']:\n",
    "                name = i['name']\n",
    "                registeredUsers = i['registeredUsers']\n",
    "                columns9[\"Pincodes\"].append(name)\n",
    "                columns9['RegisteredUsers'].append(registeredUsers)\n",
    "                columns9['States'].append(state)\n",
    "                columns9['Years'].append(year)\n",
    "                columns9['Quarter'].append(int(file.strip(\".json\")))"
   ]
  },
  {
   "cell_type": "code",
   "execution_count": 32,
   "metadata": {},
   "outputs": [],
   "source": [
    "top_user = pd.DataFrame(columns9)"
   ]
  },
  {
   "cell_type": "code",
   "execution_count": 33,
   "metadata": {},
   "outputs": [
    {
     "data": {
      "text/plain": [
       "array(['Andaman & Nicobar', 'Andhra Pradesh', 'Arunachal Pradesh',\n",
       "       'Assam', 'Bihar', 'Chandigarh', 'Chhattisgarh',\n",
       "       'Dadra and Nagar Haveli and Daman and Diu', 'Delhi', 'Goa',\n",
       "       'Gujarat', 'Haryana', 'Himachal Pradesh', 'Jammu & Kashmir',\n",
       "       'Jharkhand', 'Karnataka', 'Kerala', 'Ladakh', 'Lakshadweep',\n",
       "       'Madhya Pradesh', 'Maharashtra', 'Manipur', 'Meghalaya', 'Mizoram',\n",
       "       'Nagaland', 'Odisha', 'Puducherry', 'Punjab', 'Rajasthan',\n",
       "       'Sikkim', 'Tamil Nadu', 'Telangana', 'Tripura', 'Uttar Pradesh',\n",
       "       'Uttarakhand', 'West Bengal'], dtype=object)"
      ]
     },
     "execution_count": 33,
     "metadata": {},
     "output_type": "execute_result"
    }
   ],
   "source": [
    "top_user['States'] = top_user['States'].str.replace('andaman-&-nicobar-islands','Andaman & Nicobar')\n",
    "top_user['States'] = top_user['States'].str.replace('-',' ')\n",
    "top_user['States'] = top_user['States'].str.title()\n",
    "top_user['States'] = top_user['States'].str.replace('Dadra & Nagar Haveli & Daman & Diu','Dadra and Nagar Haveli and Daman and Diu')\n",
    "top_user['States'].unique()"
   ]
  },
  {
   "cell_type": "code",
   "execution_count": 34,
   "metadata": {},
   "outputs": [],
   "source": [
    "#Table creation\n",
    "#SQL connection\n",
    "\n",
    "mydb = psycopg2.connect(host = 'localhost',\n",
    "                        user = 'postgres',\n",
    "                        port = '5432',\n",
    "                        password = 'NK19',\n",
    "                        database = 'phonepe_data')\n",
    "cursor = mydb.cursor()"
   ]
  },
  {
   "cell_type": "code",
   "execution_count": 35,
   "metadata": {},
   "outputs": [],
   "source": [
    "#Aggre Insurunce Table\n",
    "\n",
    "create_query1 = '''CREATE TABLE if not exists aggregated_insurance(States varchar(225),\n",
    "                                                    Years int,\n",
    "                                                    Quarter int,\n",
    "                                                    Transaction_type varchar(225),\n",
    "                                                    Transaction_count bigint,\n",
    "                                                    Transaction_amount bigint)'''\n",
    "cursor.execute(create_query1)\n",
    "mydb.commit()\n",
    "\n",
    "insert_query1 = '''INSERT INTO aggregated_insurance(States, Years, Quarter, Transaction_type, Transaction_count, Transaction_amount)\n",
    "                \n",
    "                values(%s,%s,%s,%s,%s,%s)'''\n",
    "\n",
    "data = aggre_insurance.values.tolist()\n",
    "cursor.executemany(insert_query1,data)\n",
    "mydb.commit()"
   ]
  },
  {
   "cell_type": "code",
   "execution_count": 59,
   "metadata": {},
   "outputs": [
    {
     "data": {
      "text/plain": [
       "Index(['States', 'Years', 'Quarter', 'Transaction_type', 'Transaction_count',\n",
       "       'Transaction_amount'],\n",
       "      dtype='object')"
      ]
     },
     "execution_count": 59,
     "metadata": {},
     "output_type": "execute_result"
    }
   ],
   "source": [
    "aggre_insurance.columns"
   ]
  },
  {
   "cell_type": "code",
   "execution_count": 36,
   "metadata": {},
   "outputs": [],
   "source": [
    "#Aggre Trans table\n",
    "\n",
    "create_query2 = '''CREATE TABLE if not exists aggregated_transaction(States varchar(225),\n",
    "                                                    Years int,\n",
    "                                                    Quarter int,\n",
    "                                                    Transaction_type varchar(225),\n",
    "                                                    Transaction_count bigint,\n",
    "                                                    Transaction_amount bigint)'''\n",
    "cursor.execute(create_query2)\n",
    "mydb.commit()\n",
    "\n",
    "insert_query2 = '''INSERT INTO aggregated_transaction(States, Years, Quarter, Transaction_type, Transaction_count, Transaction_amount)\n",
    "                \n",
    "                values(%s,%s,%s,%s,%s,%s)'''\n",
    "\n",
    "data = aggre_transaction.values.tolist()\n",
    "cursor.executemany(insert_query2, data)\n",
    "mydb.commit()\n"
   ]
  },
  {
   "cell_type": "code",
   "execution_count": 37,
   "metadata": {},
   "outputs": [
    {
     "data": {
      "text/plain": [
       "Index(['States', 'Years', 'Quarter', 'Transaction_type', 'Transaction_count',\n",
       "       'Transaction_amount'],\n",
       "      dtype='object')"
      ]
     },
     "execution_count": 37,
     "metadata": {},
     "output_type": "execute_result"
    }
   ],
   "source": [
    "aggre_transaction.columns"
   ]
  },
  {
   "cell_type": "code",
   "execution_count": 38,
   "metadata": {},
   "outputs": [],
   "source": [
    "#Agger users\n",
    "\n",
    "create_query3 = '''CREATE TABLE if not exists aggregated_user(States varchar(225),\n",
    "                                                    Years int,\n",
    "                                                    Quarter int,\n",
    "                                                    Brand varchar(225),\n",
    "                                                    Transaction_count bigint,\n",
    "                                                    Percentage float)'''\n",
    "cursor.execute(create_query3)\n",
    "mydb.commit()\n",
    "\n",
    "insert_query3 = '''INSERT INTO aggregated_user(States, Years, Quarter, Brand, Transaction_count, Percentage)\n",
    "                \n",
    "                values(%s,%s,%s,%s,%s,%s)'''\n",
    "\n",
    "data = aggre_user.values.tolist()\n",
    "cursor.executemany(insert_query3, data)\n",
    "mydb.commit()"
   ]
  },
  {
   "cell_type": "code",
   "execution_count": 39,
   "metadata": {},
   "outputs": [
    {
     "data": {
      "text/plain": [
       "Index(['States', 'Years', 'Quarter', 'Brand', 'Transaction_count',\n",
       "       'Percentage'],\n",
       "      dtype='object')"
      ]
     },
     "execution_count": 39,
     "metadata": {},
     "output_type": "execute_result"
    }
   ],
   "source": [
    "aggre_user.columns"
   ]
  },
  {
   "cell_type": "code",
   "execution_count": 40,
   "metadata": {},
   "outputs": [],
   "source": [
    "#Map Insurance table\n",
    "\n",
    "create_query4 = '''CREATE TABLE if not exists map_insurance(States varchar(225),\n",
    "                                                    Years int,\n",
    "                                                    Quarter int,\n",
    "                                                    Districts varchar(225),\n",
    "                                                    Transaction_count bigint,\n",
    "                                                    Transaction_amount bigint)'''\n",
    "cursor.execute(create_query4)\n",
    "mydb.commit()\n",
    "\n",
    "insert_query4 = '''INSERT INTO map_insurance(States, Years, Quarter, Districts, Transaction_count, Transaction_amount)\n",
    "                \n",
    "                values(%s,%s,%s,%s,%s,%s)'''\n",
    "\n",
    "data = map_insurance.values.tolist()\n",
    "cursor.executemany(insert_query4, data)\n",
    "mydb.commit()"
   ]
  },
  {
   "cell_type": "code",
   "execution_count": 57,
   "metadata": {},
   "outputs": [
    {
     "data": {
      "text/plain": [
       "Index(['States', 'Years', 'Quarter', 'Districts', 'Transaction_count',\n",
       "       'Transaction_amount'],\n",
       "      dtype='object')"
      ]
     },
     "execution_count": 57,
     "metadata": {},
     "output_type": "execute_result"
    }
   ],
   "source": [
    "map_insurance.columns"
   ]
  },
  {
   "cell_type": "code",
   "execution_count": 42,
   "metadata": {},
   "outputs": [],
   "source": [
    "#Map tyrans table\n",
    "\n",
    "create_query5 = '''CREATE TABLE if not exists map_transaction(States varchar(225),\n",
    "                                                    Years int,\n",
    "                                                    Quarter int,\n",
    "                                                    Districts varchar(225),\n",
    "                                                    Transaction_count bigint,\n",
    "                                                    Transaction_amount bigint)'''\n",
    "cursor.execute(create_query5)\n",
    "mydb.commit()\n",
    "\n",
    "insert_query5 = '''INSERT INTO map_transaction(States, Years, Quarter, Districts, Transaction_count, Transaction_amount)\n",
    "                \n",
    "                values(%s,%s,%s,%s,%s,%s)'''\n",
    "\n",
    "data = map_transaction.values.tolist()\n",
    "cursor.executemany(insert_query5, data)\n",
    "mydb.commit()"
   ]
  },
  {
   "cell_type": "code",
   "execution_count": 52,
   "metadata": {},
   "outputs": [
    {
     "data": {
      "text/plain": [
       "Index(['States', 'Years', 'Quarter', 'Districts', 'Transaction_count',\n",
       "       'Transaction_amount'],\n",
       "      dtype='object')"
      ]
     },
     "execution_count": 52,
     "metadata": {},
     "output_type": "execute_result"
    }
   ],
   "source": [
    "map_transaction.columns"
   ]
  },
  {
   "cell_type": "code",
   "execution_count": 44,
   "metadata": {},
   "outputs": [],
   "source": [
    "#map user table\n",
    "\n",
    "create_query6 = '''CREATE TABLE if not exists map_user(States varchar(225),\n",
    "                                                    Years int,\n",
    "                                                    Quarter int,\n",
    "                                                    Districts varchar(225),\n",
    "                                                    RegisteredUsers bigint,\n",
    "                                                    AppOpens bigint)'''\n",
    "cursor.execute(create_query6)\n",
    "mydb.commit()\n",
    "\n",
    "insert_query6 = '''INSERT INTO map_user(States, Years, Quarter, Districts, RegisteredUsers, AppOpens)\n",
    "                \n",
    "                values(%s,%s,%s,%s,%s,%s)'''\n",
    "\n",
    "data = map_user.values.tolist()\n",
    "cursor.executemany(insert_query6, data)\n",
    "mydb.commit()"
   ]
  },
  {
   "cell_type": "code",
   "execution_count": 53,
   "metadata": {},
   "outputs": [
    {
     "data": {
      "text/plain": [
       "Index(['States', 'Years', 'Quarter', 'Districts', 'RegisteredUsers',\n",
       "       'AppOpens'],\n",
       "      dtype='object')"
      ]
     },
     "execution_count": 53,
     "metadata": {},
     "output_type": "execute_result"
    }
   ],
   "source": [
    "map_user.columns"
   ]
  },
  {
   "cell_type": "code",
   "execution_count": 46,
   "metadata": {},
   "outputs": [],
   "source": [
    "#top insurance table\n",
    "\n",
    "create_query7 = '''CREATE TABLE if not exists top_insurance(States varchar(225),\n",
    "                                                    Years int,\n",
    "                                                    Quarter int,\n",
    "                                                    Pincodes int,\n",
    "                                                    Transaction_count bigint,\n",
    "                                                    Transaction_amount bigint)'''\n",
    "cursor.execute(create_query7)\n",
    "mydb.commit()\n",
    "\n",
    "insert_query7 = '''INSERT INTO top_insurance(States, Years, Quarter, Pincodes, Transaction_count, Transaction_amount)\n",
    "                \n",
    "                values(%s,%s,%s,%s,%s,%s)'''\n",
    "\n",
    "data = top_insurance.values.tolist()\n",
    "cursor.executemany(insert_query7, data)\n",
    "mydb.commit()"
   ]
  },
  {
   "cell_type": "code",
   "execution_count": 54,
   "metadata": {},
   "outputs": [
    {
     "data": {
      "text/plain": [
       "Index(['States', 'Years', 'Quarter', 'Pincodes', 'Transaction_count',\n",
       "       'Transaction_amount'],\n",
       "      dtype='object')"
      ]
     },
     "execution_count": 54,
     "metadata": {},
     "output_type": "execute_result"
    }
   ],
   "source": [
    "top_insurance.columns"
   ]
  },
  {
   "cell_type": "code",
   "execution_count": 48,
   "metadata": {},
   "outputs": [],
   "source": [
    "#top trans table\n",
    "\n",
    "create_query8 = '''CREATE TABLE if not exists top_transaction(States varchar(225),\n",
    "                                                    Years int,\n",
    "                                                    Quarter int,\n",
    "                                                    Pincodes int,\n",
    "                                                    Transaction_count bigint,\n",
    "                                                    Transaction_amount bigint)'''\n",
    "cursor.execute(create_query8)\n",
    "mydb.commit()\n",
    "\n",
    "insert_query8 = '''INSERT INTO top_transaction(States, Years, Quarter, Pincodes, Transaction_count, Transaction_amount)\n",
    "                \n",
    "                values(%s,%s,%s,%s,%s,%s)'''\n",
    "\n",
    "data = top_transaction.values.tolist()\n",
    "cursor.executemany(insert_query8, data)\n",
    "mydb.commit()"
   ]
  },
  {
   "cell_type": "code",
   "execution_count": 55,
   "metadata": {},
   "outputs": [
    {
     "data": {
      "text/plain": [
       "Index(['States', 'Years', 'Quarter', 'Pincodes', 'Transaction_count',\n",
       "       'Transaction_amount'],\n",
       "      dtype='object')"
      ]
     },
     "execution_count": 55,
     "metadata": {},
     "output_type": "execute_result"
    }
   ],
   "source": [
    "top_transaction.columns"
   ]
  },
  {
   "cell_type": "code",
   "execution_count": 50,
   "metadata": {},
   "outputs": [],
   "source": [
    "#top user table\n",
    "\n",
    "create_query9 = '''CREATE TABLE if not exists top_user(States varchar(225),\n",
    "                                                    Years int,\n",
    "                                                    Quarter int,\n",
    "                                                    Pincodes int,\n",
    "                                                    RegisteredUsers bigint)'''\n",
    "cursor.execute(create_query9)\n",
    "mydb.commit()\n",
    "\n",
    "insert_query9 = '''INSERT INTO top_user(States, Years, Quarter, Pincodes, RegisteredUsers)\n",
    "                \n",
    "                values(%s,%s,%s,%s,%s)'''\n",
    "\n",
    "data = top_user.values.tolist()\n",
    "cursor.executemany(insert_query9, data)\n",
    "mydb.commit()"
   ]
  },
  {
   "cell_type": "code",
   "execution_count": 56,
   "metadata": {},
   "outputs": [
    {
     "data": {
      "text/plain": [
       "Index(['States', 'Years', 'Quarter', 'Pincodes', 'RegisteredUsers'], dtype='object')"
      ]
     },
     "execution_count": 56,
     "metadata": {},
     "output_type": "execute_result"
    }
   ],
   "source": [
    "top_user.columns"
   ]
  },
  {
   "cell_type": "code",
   "execution_count": null,
   "metadata": {},
   "outputs": [],
   "source": []
  }
 ],
 "metadata": {
  "kernelspec": {
   "display_name": "base",
   "language": "python",
   "name": "python3"
  },
  "language_info": {
   "codemirror_mode": {
    "name": "ipython",
    "version": 3
   },
   "file_extension": ".py",
   "mimetype": "text/x-python",
   "name": "python",
   "nbconvert_exporter": "python",
   "pygments_lexer": "ipython3",
   "version": "3.9.13"
  }
 },
 "nbformat": 4,
 "nbformat_minor": 2
}
