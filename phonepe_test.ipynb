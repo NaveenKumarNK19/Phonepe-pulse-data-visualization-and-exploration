{
 "cells": [
  {
   "cell_type": "code",
   "execution_count": null,
   "metadata": {},
   "outputs": [],
   "source": [
    "import pandas as pd\n",
    "import psycopg2\n",
    "import plotly.express as px\n",
    "import requests\n",
    "import json"
   ]
  },
  {
   "cell_type": "code",
   "execution_count": null,
   "metadata": {},
   "outputs": [],
   "source": [
    "#data frame creation\n",
    "\n",
    "#SQL connection\n",
    "\n",
    "mydb = psycopg2.connect(host = 'localhost',\n",
    "                        user = 'postgres',\n",
    "                        port = '5432',\n",
    "                        password = 'NK19',\n",
    "                        database = 'phonepe_data')\n",
    "cursor = mydb.cursor()"
   ]
  },
  {
   "cell_type": "code",
   "execution_count": null,
   "metadata": {},
   "outputs": [],
   "source": [
    "#Agge insurance df\n",
    "\n",
    "cursor.execute(\"select * from aggregated_insurance\")\n",
    "mydb.commit()\n",
    "table1 = cursor.fetchall()\n",
    "\n",
    "Aggre_insurance = pd.DataFrame(table1, columns=(\"States\", \"Years\", \"Quarter\", 'Transaction_type', 'Transaction_count', \"Transaction_amount\"))"
   ]
  },
  {
   "cell_type": "code",
   "execution_count": null,
   "metadata": {},
   "outputs": [],
   "source": [
    "Aggre_insurance"
   ]
  },
  {
   "cell_type": "code",
   "execution_count": null,
   "metadata": {},
   "outputs": [],
   "source": [
    "#Agge trans df\n",
    "\n",
    "cursor.execute(\"select * from aggregated_transaction\")\n",
    "mydb.commit()\n",
    "table2 = cursor.fetchall()\n",
    "\n",
    "Aggre_trans = pd.DataFrame(table2, columns=('States', 'Years', 'Quarter', 'Transaction_type', 'Transaction_count','Transaction_amount'))"
   ]
  },
  {
   "cell_type": "code",
   "execution_count": null,
   "metadata": {},
   "outputs": [],
   "source": [
    "Aggre_trans"
   ]
  },
  {
   "cell_type": "code",
   "execution_count": null,
   "metadata": {},
   "outputs": [],
   "source": [
    "#Agge user df\n",
    "\n",
    "cursor.execute(\"select * from aggregated_user\")\n",
    "mydb.commit()\n",
    "table3 = cursor.fetchall()\n",
    "\n",
    "Aggre_user = pd.DataFrame(table3, columns=('States', 'Years', 'Quarter', 'Brand', 'Transaction_count', 'Percentage'))"
   ]
  },
  {
   "cell_type": "code",
   "execution_count": null,
   "metadata": {},
   "outputs": [],
   "source": [
    "Aggre_user"
   ]
  },
  {
   "cell_type": "code",
   "execution_count": null,
   "metadata": {},
   "outputs": [],
   "source": [
    "#map insurance df\n",
    "\n",
    "cursor.execute(\"select * from map_insurance\")\n",
    "mydb.commit()\n",
    "table4 = cursor.fetchall()\n",
    "\n",
    "map_insurance = pd.DataFrame(table4, columns=('States', 'Years', 'Quarter', 'Districts', 'Transaction_count', 'Transaction_amount'))"
   ]
  },
  {
   "cell_type": "code",
   "execution_count": null,
   "metadata": {},
   "outputs": [],
   "source": [
    "map_insurance"
   ]
  },
  {
   "cell_type": "code",
   "execution_count": null,
   "metadata": {},
   "outputs": [],
   "source": [
    "#msp trans df\n",
    "\n",
    "cursor.execute(\"select * from map_transaction\")\n",
    "mydb.commit()\n",
    "table5 = cursor.fetchall()\n",
    "\n",
    "map_transaction = pd.DataFrame(table5, columns=('States', 'Years', 'Quarter', 'Districts', 'Transaction_count', 'Transaction_amount'))"
   ]
  },
  {
   "cell_type": "code",
   "execution_count": null,
   "metadata": {},
   "outputs": [],
   "source": [
    "map_transaction"
   ]
  },
  {
   "cell_type": "code",
   "execution_count": null,
   "metadata": {},
   "outputs": [],
   "source": [
    "#map user df\n",
    "\n",
    "cursor.execute(\"select * from map_user\")\n",
    "mydb.commit()\n",
    "table6 = cursor.fetchall()\n",
    "\n",
    "map_user = pd.DataFrame(table6, columns=('States', 'Years', 'Quarter', 'Districts', 'RegisteredUsers', 'AppOpens'))"
   ]
  },
  {
   "cell_type": "code",
   "execution_count": null,
   "metadata": {},
   "outputs": [],
   "source": [
    "map_user"
   ]
  },
  {
   "cell_type": "code",
   "execution_count": null,
   "metadata": {},
   "outputs": [],
   "source": [
    "#top insurance df\n",
    "\n",
    "cursor.execute(\"select * from top_insurance\")\n",
    "mydb.commit()\n",
    "table7 = cursor.fetchall()\n",
    "\n",
    "top_insurance = pd.DataFrame(table7, columns=('States', 'Years', 'Quarter', 'Pincodes', 'Transaction_count', 'Transaction_amount'))"
   ]
  },
  {
   "cell_type": "code",
   "execution_count": null,
   "metadata": {},
   "outputs": [],
   "source": [
    "top_insurance"
   ]
  },
  {
   "cell_type": "code",
   "execution_count": null,
   "metadata": {},
   "outputs": [],
   "source": [
    "#top trans df\n",
    "\n",
    "cursor.execute(\"select * from top_transaction\")\n",
    "mydb.commit()\n",
    "table8 = cursor.fetchall()\n",
    "\n",
    "top_transaction = pd.DataFrame(table8, columns=('States', 'Years', 'Quarter', 'Pincodes', 'Transaction_count', 'Transaction_amount'))"
   ]
  },
  {
   "cell_type": "code",
   "execution_count": null,
   "metadata": {},
   "outputs": [],
   "source": [
    "top_transaction"
   ]
  },
  {
   "cell_type": "code",
   "execution_count": null,
   "metadata": {},
   "outputs": [],
   "source": [
    "#top user df\n",
    "\n",
    "cursor.execute(\"select * from top_user\")\n",
    "mydb.commit()\n",
    "table9 = cursor.fetchall()\n",
    "\n",
    "top_user = pd.DataFrame(table9, columns=('States', 'Years', 'Quarter', 'Pincodes', 'RegisteredUsers'))"
   ]
  },
  {
   "cell_type": "code",
   "execution_count": null,
   "metadata": {},
   "outputs": [],
   "source": [
    "top_user"
   ]
  },
  {
   "cell_type": "code",
   "execution_count": null,
   "metadata": {},
   "outputs": [],
   "source": [
    "def Transaction_amount_count_Y(year):\n",
    "    tacy = Aggre_insurance[Aggre_insurance['Years'] == year]\n",
    "    tacy.reset_index(drop= True, inplace= True)\n",
    "\n",
    "    tacy = tacy.groupby('States')[['Transaction_count','Transaction_amount']].sum()\n",
    "    tacy.reset_index(inplace= True)\n",
    "\n",
    "    fig_amount = px.bar(tacy, x= 'States', y= 'Transaction_amount', title= f'{year} TRANSATION AMOUNT', color_discrete_sequence= px.colors.sequential.Aggrnyl)\n",
    "    fig_amount.show()\n",
    "\n",
    "    fig_count = px.bar(tacy, x= 'States', y = 'Transaction_count', title= f'{year} TRANSACTION AMOUNT', color_discrete_sequence= px.colors.sequential.Bluered_r)\n",
    "    fig_count.show()\n",
    "\n",
    "    url = 'https://gist.githubusercontent.com/jbrobst/56c13bbbf9d97d187fea01ca62ea5112/raw/e388c4cae20aa53cb5090210a42ebb9b765c0a36/india_states.geojson'\n",
    "    response = requests.get(url)\n",
    "    data1 = json.loads(response.content)\n",
    "    states_name = []\n",
    "    for feature in data1['features']:\n",
    "        states_name.append(feature['properties']['ST_NM'])\n",
    "    states_name.sort()\n",
    "\n",
    "    fig_india_1 = px.choropleth(tacy, geojson= data1, locations= 'States', featureidkey= 'properties.ST_NM', color= 'Transaction_amount', color_continuous_scale= 'Rainbow', range_color= (tacy['Transaction_amount'].min(), tacy['Transaction_amount'].max()), hover_name= 'States', title= f'{year} TRANSACTION AMOUNT', fitbounds= 'locations', height= 650, width= 600)\n",
    "    fig_india_1.update_geos(visible= False)\n",
    "    fig_india_1.show()\n",
    "\n",
    "    fig_india_2 = px.choropleth(tacy, geojson= data1, locations= 'States', featureidkey= 'properties.ST_NM', color= 'Transaction_count', color_continuous_scale= 'Rainbow', range_color= (tacy['Transaction_count'].min(), tacy['Transaction_count'].max()), hover_name= 'States', title= f'{year} TRANSACTION COUNT', fitbounds= 'locations', height= 650, width= 600)\n",
    "    fig_india_2.update_geos(visible= False)\n",
    "    fig_india_2.show()\n"
   ]
  },
  {
   "cell_type": "code",
   "execution_count": null,
   "metadata": {},
   "outputs": [],
   "source": [
    "Aggre_insurance['Years'].unique()"
   ]
  },
  {
   "cell_type": "code",
   "execution_count": null,
   "metadata": {},
   "outputs": [],
   "source": [
    "Transaction_amount_count_Y(2022)"
   ]
  },
  {
   "cell_type": "code",
   "execution_count": null,
   "metadata": {},
   "outputs": [],
   "source": [
    "url = 'https://gist.githubusercontent.com/jbrobst/56c13bbbf9d97d187fea01ca62ea5112/raw/e388c4cae20aa53cb5090210a42ebb9b765c0a36/india_states.geojson'\n",
    "response = requests.get(url)\n",
    "data1 = json.loads(response.content)\n",
    "states_name = []\n",
    "for feature in data1['features']:\n",
    "    states_name.append(feature['properties']['ST_NM'])\n",
    "\n",
    "states_name.sort()\n",
    "\n",
    "fig_india_1 = px.choropleth()"
   ]
  },
  {
   "cell_type": "code",
   "execution_count": null,
   "metadata": {},
   "outputs": [],
   "source": [
    "url = 'https://gist.githubusercontent.com/jbrobst/56c13bbbf9d97d187fea01ca62ea5112/raw/e388c4cae20aa53cb5090210a42ebb9b765c0a36/india_states.geojson'\n",
    "response = requests.get(url)\n",
    "data1 = json.loads(response.content)\n",
    "states_name = []\n",
    "for feature in data1['features']:\n",
    "    states_name.append(feature['properties']['ST_NM'])\n",
    "states_name.sort()"
   ]
  },
  {
   "cell_type": "code",
   "execution_count": null,
   "metadata": {},
   "outputs": [],
   "source": [
    "def Transaction_amount_count_Y(df, year):\n",
    "    tacy = df[df['Years'] == year]\n",
    "    tacy.reset_index(drop= True, inplace= True)\n",
    "\n",
    "    tacyg = tacy.groupby('States')[['Transaction_count','Transaction_amount']].sum()\n",
    "    tacyg.reset_index(inplace= True)\n",
    "\n",
    "#col1, col2 = st.columns(2)\n",
    "\n",
    "#with col1:\n",
    "    fig_amount = px.bar(tacyg, x= 'States', y= 'Transaction_amount', title= f'{year} TRANSATION AMOUNT', color_discrete_sequence= px.colors.sequential.Aggrnyl, height= 650, width= 600)\n",
    "    fig_amount.show()#st.plotly_chart(fig_amount)\n",
    "\n",
    "    fig_india_1 = px.choropleth(tacyg, geojson= data1, locations= 'States', featureidkey= 'properties.ST_NM', color= 'Transaction_amount', color_continuous_scale= 'Rainbow', range_color= (tacyg['Transaction_amount'].min(), tacyg['Transaction_amount'].max()), hover_name= 'States', title= f'{year} TRANSACTION AMOUNT', fitbounds= 'locations', height= 650, width= 600)\n",
    "    fig_india_1.update_geos(visible= False)\n",
    "    fig_india_1.show()#st.plotly_chart(fig_india_1)\n",
    "\n",
    "#with col2:\n",
    "    fig_count = px.bar(tacyg, x= 'States', y = 'Transaction_count', title= f'{year} TRANSACTION AMOUNT', color_discrete_sequence= px.colors.sequential.Bluered_r, height= 650, width= 600)\n",
    "    fig_count.show()#st.plotly_chart(fig_count)\n",
    "\n",
    "    fig_india_2 = px.choropleth(tacyg, geojson= data1, locations= 'States', featureidkey= 'properties.ST_NM', color= 'Transaction_count', color_continuous_scale= 'Rainbow', range_color= (tacyg['Transaction_count'].min(), tacyg['Transaction_count'].max()), hover_name= 'States', title= f'{year} TRANSACTION COUNT', fitbounds= 'locations', height= 650, width= 600)\n",
    "    fig_india_2.update_geos(visible= False)\n",
    "    fig_india_2.show()#st.plotly_chart(fig_india_2)\n",
    "    return tacy"
   ]
  },
  {
   "cell_type": "code",
   "execution_count": null,
   "metadata": {},
   "outputs": [],
   "source": [
    "tac_Y = Transaction_amount_count_Y(Aggre_insurance, 2022)"
   ]
  },
  {
   "cell_type": "code",
   "execution_count": null,
   "metadata": {},
   "outputs": [],
   "source": [
    "#trans amount count by year and quater\n",
    "\n",
    "def Transaction_amount_count_Y_Q(df, quarter):\n",
    "    tacy = df[df['Quarter'] == quarter]\n",
    "    tacy.reset_index(drop= True, inplace= True)\n",
    "\n",
    "    tacyg = tacy.groupby('States')[['Transaction_count','Transaction_amount']].sum()\n",
    "    tacyg.reset_index(inplace= True)\n",
    "\n",
    "#col1, col2 = st.columns(2)\n",
    "\n",
    "#with col1:\n",
    "    fig_amount = px.bar(tacyg, x= 'States', y= 'Transaction_amount', title= f\"{tacy['Years'].min()} YEAR {quarter} TRANSATION AMOUNT\", color_discrete_sequence= px.colors.sequential.Aggrnyl, height= 650, width= 600)\n",
    "    #st.plotly_chart(fig_amount)\n",
    "    fig_amount.show()\n",
    "\n",
    "    fig_india_1 = px.choropleth(tacyg, geojson= data1, locations= 'States', featureidkey= 'properties.ST_NM', color= 'Transaction_amount', color_continuous_scale= 'Rainbow', range_color= (tacyg['Transaction_amount'].min(), tacyg['Transaction_amount'].max()), hover_name= 'States', title= f\"{tacy['Years'].min()} YEAR {quarter} QUATER TRANSATION AMOUNT\", fitbounds= 'locations', height= 650, width= 600)\n",
    "    fig_india_1.update_geos(visible= False)\n",
    "    #st.plotly_chart(fig_india_1)\n",
    "    fig_india_1.show()\n",
    "#with col2:\n",
    "    fig_count = px.bar(tacyg, x= 'States', y = 'Transaction_count', title= f\"{tacy['Years'].min()} YEAR {quarter} TRANSACTION COUNT\", color_discrete_sequence= px.colors.sequential.Bluered_r, height= 650, width= 600)\n",
    "    #st.plotly_chart(fig_count)\n",
    "    fig_count.show()\n",
    "    fig_india_2 = px.choropleth(tacyg, geojson= data1, locations= 'States', featureidkey= 'properties.ST_NM', color= 'Transaction_count', color_continuous_scale= 'Rainbow', range_color= (tacyg['Transaction_count'].min(), tacyg['Transaction_count'].max()), hover_name= 'States', title= f\"{tacy['Years'].min()} YEAR {quarter} QUATER TRANSACTION COUNT\", fitbounds= 'locations', height= 650, width= 600)\n",
    "    fig_india_2.update_geos(visible= False)\n",
    "    #st.plotly_chart(fig_india_2)\n",
    "    fig_india_2.show()\n",
    "\n",
    "    return tacy"
   ]
  },
  {
   "cell_type": "code",
   "execution_count": null,
   "metadata": {},
   "outputs": [],
   "source": [
    "Transaction_amount_count_Y_Q(tac_Y, 3)"
   ]
  },
  {
   "cell_type": "code",
   "execution_count": null,
   "metadata": {},
   "outputs": [],
   "source": [
    "Aggre_trans"
   ]
  },
  {
   "cell_type": "code",
   "execution_count": null,
   "metadata": {},
   "outputs": [],
   "source": [
    "Aggre_tran_tac_Y = Transaction_amount_count_Y(Aggre_trans, 2022)"
   ]
  },
  {
   "cell_type": "code",
   "execution_count": null,
   "metadata": {},
   "outputs": [],
   "source": [
    "#Aggre_Tran_Transaction_type\n",
    "\n",
    "def Aggre_Tran_Transaction_type(df, state):\n",
    "    tacy = df[df['States'] == state]\n",
    "    tacy.reset_index(drop= True, inplace= True)\n",
    "\n",
    "    tacyg = tacy.groupby('Transaction_type')[['Transaction_count','Transaction_amount']].sum()\n",
    "    tacyg.reset_index(inplace= True)\n",
    "\n",
    "    fig_pie_1 = px.pie(data_frame= tacyg, names= 'Transaction_type', values= 'Transaction_amount', width= 600, title= f\"{state.upper()} TRANSACTION AMOUNT\", hole= 0.5)\n",
    "    fig_pie_1.show()\n",
    "\n",
    "    fig_pie_2 = px.pie(data_frame= tacyg, names= 'Transaction_type', values= 'Transaction_count', width= 600, title= f\"{state.upper()} TRANSACTION COUNT\", hole= 0.5)\n",
    "    fig_pie_2.show()"
   ]
  },
  {
   "cell_type": "code",
   "execution_count": null,
   "metadata": {},
   "outputs": [],
   "source": [
    "Aggre_Tran_Transaction_type(Aggre_tran_tac_Y, 'Tamil Nadu')"
   ]
  },
  {
   "cell_type": "code",
   "execution_count": null,
   "metadata": {},
   "outputs": [],
   "source": [
    "Transaction_amount_count_Y_Q(Aggre_tran_tac_Y, 3)"
   ]
  },
  {
   "cell_type": "code",
   "execution_count": null,
   "metadata": {},
   "outputs": [],
   "source": [
    "Aggre_tran_tac_Y_Q = Transaction_amount_count_Y_Q(Aggre_tran_tac_Y, 3)"
   ]
  },
  {
   "cell_type": "code",
   "execution_count": null,
   "metadata": {},
   "outputs": [],
   "source": [
    "Aggre_Tran_Transaction_type(Aggre_tran_tac_Y_Q, 'Tamil Nadu')"
   ]
  },
  {
   "cell_type": "code",
   "execution_count": null,
   "metadata": {},
   "outputs": [],
   "source": [
    "Aggre_user['Percentage'] = Aggre_user['Percentage'] * 100\n",
    "Aggre_user"
   ]
  },
  {
   "cell_type": "code",
   "execution_count": null,
   "metadata": {},
   "outputs": [],
   "source": [
    "#Agger user plot 1\n",
    "\n",
    "def Aggre_user_plot_1(df, year):\n",
    "    aguy = df[df['Years'] == year]\n",
    "    aguy.reset_index(drop= True, inplace= True)\n",
    "\n",
    "    aguyg = pd.DataFrame(aguy.groupby(['Brand'])['Transaction_count'].sum())\n",
    "    aguyg.reset_index(inplace= True)\n",
    "\n",
    "    fig_bar_1 = px.bar(data_frame= aguyg, x= 'Brand', y= 'Transaction_count', title= f'{year} BRANDS AND TRANSACTION COUNT', width= 1000, color_discrete_sequence= px.colors.sequential.haline_r)\n",
    "    fig_bar_1.show()\n",
    "\n",
    "    return aguy"
   ]
  },
  {
   "cell_type": "code",
   "execution_count": null,
   "metadata": {},
   "outputs": [],
   "source": [
    "Aggre_user_Y =Aggre_user_plot_1(Aggre_user, 2020)"
   ]
  },
  {
   "cell_type": "code",
   "execution_count": null,
   "metadata": {},
   "outputs": [],
   "source": [
    "#Agger user plot 2\n",
    "\n",
    "def Aggre_user_plot_2(df,quater):\n",
    "    aguyq = df[df['Quarter'] == quater]\n",
    "    aguyq.reset_index(drop= True, inplace= True)\n",
    "\n",
    "    aguyqg = pd.DataFrame(aguyq.groupby(['Brand'])['Transaction_count'].sum())\n",
    "    aguyqg.reset_index(inplace= True)\n",
    "\n",
    "    fig_bar_1 = px.bar(data_frame= aguyqg, x= 'Brand', y= 'Transaction_count', title= f'{quater} QUARTER, BRANDS AND TRANSACTION COUNT', width= 1000, color_discrete_sequence= px.colors.sequential.haline_r, hover_name= 'Brand')\n",
    "    fig_bar_1.show()\n",
    "\n",
    "    return aguyq"
   ]
  },
  {
   "cell_type": "code",
   "execution_count": null,
   "metadata": {},
   "outputs": [],
   "source": [
    "Aggre_user_Y_Q = Aggre_user_plot_2(Aggre_user_Y,3)"
   ]
  },
  {
   "cell_type": "code",
   "execution_count": null,
   "metadata": {},
   "outputs": [],
   "source": [
    "#Agger user with state\n",
    "\n",
    "def Aggre_user_plot_3(df, state):\n",
    "    aguyqs = df[df['States'] == state]\n",
    "    aguyqs.reset_index(drop= True, inplace= True)\n",
    "\n",
    "    fig_line_1 = px.line(data_frame= aguyqs, x= 'Brand', y= 'Transaction_count', hover_data= {'Percentage': ':.2f%'}, title= 'BRANDS TRANSATION COUNT WITH PERCENTAGE', width= 1000, markers= True)\n",
    "    fig_line_1.show()\n"
   ]
  },
  {
   "cell_type": "code",
   "execution_count": null,
   "metadata": {},
   "outputs": [],
   "source": [
    "Aggre_user_plot_3(Aggre_user_Y_Q, 'Tamil Nadu')"
   ]
  },
  {
   "cell_type": "code",
   "execution_count": null,
   "metadata": {},
   "outputs": [],
   "source": [
    "Aggre_user_Y_Q"
   ]
  },
  {
   "cell_type": "code",
   "execution_count": null,
   "metadata": {},
   "outputs": [],
   "source": [
    "#Map insurance\n",
    "\n",
    "map_insur_tac_Y = Transaction_amount_count_Y(map_insurance, 2022)"
   ]
  },
  {
   "cell_type": "code",
   "execution_count": null,
   "metadata": {},
   "outputs": [],
   "source": [
    "#Map insurance district \n",
    "\n",
    "def map_insur_district(df, state):\n",
    "    tacy = df[df['States'] == state]\n",
    "    tacy.reset_index(drop= True, inplace= True)\n",
    "\n",
    "    tacyg = tacy.groupby('Districts')[['Transaction_count','Transaction_amount']].sum()\n",
    "    tacyg.reset_index(inplace= True)\n",
    "\n",
    "    fig_bar_1 = px.bar(data_frame= tacyg, x= 'Transaction_amount', y= 'Districts', orientation= \"h\", title= f\"{state.upper()}'S DISTRICT AND TRANSACTION AMOUNT\", color_discrete_sequence= px.colors.sequential.Mint_r)\n",
    "    fig_bar_1.show()\n",
    "\n",
    "    fig_bar_2 = px.bar(data_frame= tacyg, x= 'Transaction_count', y= 'Districts', orientation= \"h\", title= f\"{state.upper()}'S DISTRICT AND TRANSACTION COUNT\", color_discrete_sequence= px.colors.sequential.Bluered_r)\n",
    "    fig_bar_2.show()"
   ]
  },
  {
   "cell_type": "code",
   "execution_count": null,
   "metadata": {},
   "outputs": [],
   "source": [
    "map_insur_district(map_insur_tac_Y, 'Tamil Nadu')"
   ]
  },
  {
   "cell_type": "code",
   "execution_count": null,
   "metadata": {},
   "outputs": [],
   "source": [
    "map_insur_tac_Y_Q = Transaction_amount_count_Y_Q(map_insur_tac_Y, 3)"
   ]
  },
  {
   "cell_type": "code",
   "execution_count": null,
   "metadata": {},
   "outputs": [],
   "source": [
    "map_insur_district(map_insur_tac_Y_Q, 'Tamil Nadu')"
   ]
  },
  {
   "cell_type": "code",
   "execution_count": null,
   "metadata": {},
   "outputs": [],
   "source": [
    "map_tran_tac_Y = Transaction_amount_count_Y(map_transaction, 2022)"
   ]
  },
  {
   "cell_type": "code",
   "execution_count": null,
   "metadata": {},
   "outputs": [],
   "source": [
    "map_insur_district(map_tran_tac_Y, 'Tamil Nadu')"
   ]
  },
  {
   "cell_type": "code",
   "execution_count": null,
   "metadata": {},
   "outputs": [],
   "source": [
    "map_tran_tac_Y_Q = Transaction_amount_count_Y_Q(map_tran_tac_Y, 3)"
   ]
  },
  {
   "cell_type": "code",
   "execution_count": null,
   "metadata": {},
   "outputs": [],
   "source": [
    "map_insur_district(map_tran_tac_Y_Q, 'Tamil Nadu')"
   ]
  },
  {
   "cell_type": "code",
   "execution_count": null,
   "metadata": {},
   "outputs": [],
   "source": [
    "#map user plot 1\n",
    "\n",
    "def map_user_plot_1(df, year):\n",
    "    muy= df[df[\"Years\"]== year]\n",
    "    muy.reset_index(drop= True, inplace= True)\n",
    "\n",
    "    muyg= muy.groupby(\"States\")[[\"RegisteredUsers\", \"AppOpens\"]].sum()\n",
    "    muyg.reset_index(inplace= True)\n",
    "\n",
    "    fig_line_1= px.line(muyg, x= \"States\", y= [\"RegisteredUsers\", \"AppOpens\"], title= f\"{year} REGISTERED USER, APPOPENS\",width= 1000, height= 800, markers= True)\n",
    "    fig_line_1.show()\n",
    "\n",
    "    return muy"
   ]
  },
  {
   "cell_type": "code",
   "execution_count": null,
   "metadata": {},
   "outputs": [],
   "source": [
    "map_user_Y = map_user_plot_1(map_user,2020)"
   ]
  },
  {
   "cell_type": "code",
   "execution_count": null,
   "metadata": {},
   "outputs": [],
   "source": [
    "#map user plot 2\n",
    "\n",
    "def map_user_plot_2(df, quarter):\n",
    "    muyq= df[df[\"Quarter\"]== quarter]\n",
    "    muyq.reset_index(drop= True, inplace= True)\n",
    "\n",
    "    muyqg= muyq.groupby(\"States\")[[\"RegisteredUsers\", \"AppOpens\"]].sum()\n",
    "    muyqg.reset_index(inplace= True)\n",
    "\n",
    "    fig_line_1= px.line(muyqg, x= \"States\", y= [\"RegisteredUsers\", \"AppOpens\"], title= f\"{df['Years'].min()} YEARS {quarter} QUARTER REGISTERED USER, APPOPENS\",width= 1000, height= 800, markers= True)\n",
    "    fig_line_1.show()\n",
    "\n",
    "    return muyq"
   ]
  },
  {
   "cell_type": "code",
   "execution_count": null,
   "metadata": {},
   "outputs": [],
   "source": [
    "map_user_Y_Q = map_user_plot_2(map_user_Y,1)"
   ]
  },
  {
   "cell_type": "code",
   "execution_count": null,
   "metadata": {},
   "outputs": [],
   "source": [
    "#Map user 3rd plot\n",
    "\n",
    "def map_user_plot_3(df, states):\n",
    "    muyqs= df[df[\"States\"]== states]\n",
    "    muyqs.reset_index(drop= True, inplace= True)\n",
    "\n",
    "    fig_map_user_bar_1 = px.bar(muyqs, x= 'RegisteredUsers', y= 'Districts', orientation= 'h', title= f\"{states.upper()} REGISTERED USER\", height= 800, color_discrete_sequence= px.colors.sequential.Rainbow_r)\n",
    "    fig_map_user_bar_1.show()\n",
    "\n",
    "    fig_map_user_bar_2 = px.bar(muyqs, x= 'AppOpens', y= 'Districts', orientation= 'h', title= f\"{states.upper()} APPOPENS\", height= 800, color_discrete_sequence= px.colors.sequential.Rainbow)\n",
    "    fig_map_user_bar_2.show()"
   ]
  },
  {
   "cell_type": "code",
   "execution_count": null,
   "metadata": {},
   "outputs": [],
   "source": [
    "map_user_Y_Q"
   ]
  },
  {
   "cell_type": "code",
   "execution_count": null,
   "metadata": {},
   "outputs": [],
   "source": [
    "top_insur_tac_Y = Transaction_amount_count_Y(top_insurance, 2023)"
   ]
  },
  {
   "cell_type": "code",
   "execution_count": null,
   "metadata": {},
   "outputs": [],
   "source": [
    "#top insurance plot\n",
    "\n",
    "def top_insur_plot_1(df, states):\n",
    "    tiy= df[df[\"States\"]== states]\n",
    "    tiy.reset_index(drop= True, inplace= True)\n",
    "\n",
    "    fig_top_insur_bar_1 = px.bar(tiy, x= 'Quarter', y= 'Transaction_amount' , hover_data= ['Pincodes'], title= f\"REGISTERED USER\", height= 650, width= 600, color_discrete_sequence= px.colors.sequential.GnBu_r)\n",
    "    fig_top_insur_bar_1.show()\n",
    "\n",
    "    fig_top_insur_bar_2= px.bar(tiy, x= \"Quarter\", y= \"Transaction_count\", hover_data= \"Pincodes\", title= \"TRANSACTION COUNT\", height= 650,width= 600, color_discrete_sequence= px.colors.sequential.Agsunset_r)\n",
    "    fig_top_insur_bar_2.show()"
   ]
  },
  {
   "cell_type": "code",
   "execution_count": null,
   "metadata": {},
   "outputs": [],
   "source": [
    "top_insur_tac_Y"
   ]
  },
  {
   "cell_type": "code",
   "execution_count": null,
   "metadata": {},
   "outputs": [],
   "source": [
    "top_insur_tac_Y_Q = Transaction_amount_count_Y_Q(top_insur_tac_Y, 2)"
   ]
  },
  {
   "cell_type": "code",
   "execution_count": null,
   "metadata": {},
   "outputs": [],
   "source": [
    "top_trans_tac_Y = Transaction_amount_count_Y(top_transaction, 2023)"
   ]
  },
  {
   "cell_type": "code",
   "execution_count": null,
   "metadata": {},
   "outputs": [],
   "source": [
    "top_transaction"
   ]
  },
  {
   "cell_type": "code",
   "execution_count": 77,
   "metadata": {},
   "outputs": [],
   "source": [
    "#Top user 1\n",
    "\n",
    "def top_user_plot_1(df, year):\n",
    "    tuy = df[df['Years'] == year]\n",
    "    tuy.reset_index(drop= True, inplace= True)\n",
    "\n",
    "    tuyg = pd.DataFrame(tuy.groupby(['States', 'Quarter'])['RegisteredUsers'].sum())\n",
    "    tuyg.reset_index(inplace= True)\n",
    "\n",
    "    fig_top_plot_1 = px.bar(tuyg, x= 'States', y= 'RegisteredUsers', color= 'Quarter', width= 1000, height= 800, color_discrete_sequence= px.colors.sequential.Burgyl, hover_name= tuyg['States'], title= f\"{year} REGISTERED USERS\")\n",
    "    fig_top_plot_1.show()\n",
    "\n",
    "    return tuy"
   ]
  },
  {
   "cell_type": "code",
   "execution_count": null,
   "metadata": {},
   "outputs": [],
   "source": [
    "top_user_Y = top_user_plot_1(top_user, 2021)"
   ]
  },
  {
   "cell_type": "code",
   "execution_count": 79,
   "metadata": {},
   "outputs": [
    {
     "data": {
      "application/vnd.plotly.v1+json": {
       "config": {
        "plotlyServerURL": "https://plot.ly"
       },
       "data": [
        {
         "alignmentgroup": "True",
         "customdata": [
          [
           641602
          ],
          [
           635109
          ],
          [
           602105
          ],
          [
           600100
          ],
          [
           635126
          ],
          [
           600056
          ],
          [
           600003
          ],
          [
           600053
          ],
          [
           600116
          ],
          [
           600042
          ],
          [
           641602
          ],
          [
           635109
          ],
          [
           602105
          ],
          [
           600100
          ],
          [
           635126
          ],
          [
           600056
          ],
          [
           600003
          ],
          [
           600053
          ],
          [
           600116
          ],
          [
           600042
          ],
          [
           641602
          ],
          [
           635109
          ],
          [
           602105
          ],
          [
           600100
          ],
          [
           635126
          ],
          [
           600056
          ],
          [
           600003
          ],
          [
           600053
          ],
          [
           600116
          ],
          [
           600042
          ],
          [
           641602
          ],
          [
           635109
          ],
          [
           602105
          ],
          [
           600100
          ],
          [
           635126
          ],
          [
           600056
          ],
          [
           600003
          ],
          [
           600053
          ],
          [
           600116
          ],
          [
           600042
          ]
         ],
         "hovertemplate": "Quarter=%{x}<br>RegisteredUsers=%{marker.color}<br>Pincodes=%{customdata[0]}<extra></extra>",
         "legendgroup": "",
         "marker": {
          "color": [
           132560,
           119256,
           109002,
           105601,
           97362,
           94311,
           93539,
           88146,
           85493,
           80853,
           141899,
           127444,
           116613,
           112485,
           103999,
           100579,
           99585,
           94042,
           91189,
           86035,
           152392,
           136599,
           125331,
           120046,
           111400,
           107501,
           106261,
           100637,
           97574,
           91756,
           162911,
           145634,
           133972,
           127705,
           118854,
           114499,
           113049,
           107237,
           103946,
           97578
          ],
          "coloraxis": "coloraxis",
          "pattern": {
           "shape": ""
          }
         },
         "name": "",
         "offsetgroup": "",
         "orientation": "v",
         "showlegend": false,
         "textposition": "auto",
         "type": "bar",
         "x": [
          1,
          1,
          1,
          1,
          1,
          1,
          1,
          1,
          1,
          1,
          2,
          2,
          2,
          2,
          2,
          2,
          2,
          2,
          2,
          2,
          3,
          3,
          3,
          3,
          3,
          3,
          3,
          3,
          3,
          3,
          4,
          4,
          4,
          4,
          4,
          4,
          4,
          4,
          4,
          4
         ],
         "xaxis": "x",
         "y": [
          132560,
          119256,
          109002,
          105601,
          97362,
          94311,
          93539,
          88146,
          85493,
          80853,
          141899,
          127444,
          116613,
          112485,
          103999,
          100579,
          99585,
          94042,
          91189,
          86035,
          152392,
          136599,
          125331,
          120046,
          111400,
          107501,
          106261,
          100637,
          97574,
          91756,
          162911,
          145634,
          133972,
          127705,
          118854,
          114499,
          113049,
          107237,
          103946,
          97578
         ],
         "yaxis": "y"
        }
       ],
       "layout": {
        "barmode": "relative",
        "coloraxis": {
         "colorbar": {
          "title": {
           "text": "RegisteredUsers"
          }
         },
         "colorscale": [
          [
           0,
           "rgb(243, 203, 211)"
          ],
          [
           0.16666666666666666,
           "rgb(234, 169, 189)"
          ],
          [
           0.3333333333333333,
           "rgb(221, 136, 172)"
          ],
          [
           0.5,
           "rgb(202, 105, 157)"
          ],
          [
           0.6666666666666666,
           "rgb(177, 77, 142)"
          ],
          [
           0.8333333333333334,
           "rgb(145, 53, 125)"
          ],
          [
           1,
           "rgb(108, 33, 103)"
          ]
         ]
        },
        "height": 800,
        "legend": {
         "tracegroupgap": 0
        },
        "template": {
         "data": {
          "bar": [
           {
            "error_x": {
             "color": "#2a3f5f"
            },
            "error_y": {
             "color": "#2a3f5f"
            },
            "marker": {
             "line": {
              "color": "#E5ECF6",
              "width": 0.5
             },
             "pattern": {
              "fillmode": "overlay",
              "size": 10,
              "solidity": 0.2
             }
            },
            "type": "bar"
           }
          ],
          "barpolar": [
           {
            "marker": {
             "line": {
              "color": "#E5ECF6",
              "width": 0.5
             },
             "pattern": {
              "fillmode": "overlay",
              "size": 10,
              "solidity": 0.2
             }
            },
            "type": "barpolar"
           }
          ],
          "carpet": [
           {
            "aaxis": {
             "endlinecolor": "#2a3f5f",
             "gridcolor": "white",
             "linecolor": "white",
             "minorgridcolor": "white",
             "startlinecolor": "#2a3f5f"
            },
            "baxis": {
             "endlinecolor": "#2a3f5f",
             "gridcolor": "white",
             "linecolor": "white",
             "minorgridcolor": "white",
             "startlinecolor": "#2a3f5f"
            },
            "type": "carpet"
           }
          ],
          "choropleth": [
           {
            "colorbar": {
             "outlinewidth": 0,
             "ticks": ""
            },
            "type": "choropleth"
           }
          ],
          "contour": [
           {
            "colorbar": {
             "outlinewidth": 0,
             "ticks": ""
            },
            "colorscale": [
             [
              0,
              "#0d0887"
             ],
             [
              0.1111111111111111,
              "#46039f"
             ],
             [
              0.2222222222222222,
              "#7201a8"
             ],
             [
              0.3333333333333333,
              "#9c179e"
             ],
             [
              0.4444444444444444,
              "#bd3786"
             ],
             [
              0.5555555555555556,
              "#d8576b"
             ],
             [
              0.6666666666666666,
              "#ed7953"
             ],
             [
              0.7777777777777778,
              "#fb9f3a"
             ],
             [
              0.8888888888888888,
              "#fdca26"
             ],
             [
              1,
              "#f0f921"
             ]
            ],
            "type": "contour"
           }
          ],
          "contourcarpet": [
           {
            "colorbar": {
             "outlinewidth": 0,
             "ticks": ""
            },
            "type": "contourcarpet"
           }
          ],
          "heatmap": [
           {
            "colorbar": {
             "outlinewidth": 0,
             "ticks": ""
            },
            "colorscale": [
             [
              0,
              "#0d0887"
             ],
             [
              0.1111111111111111,
              "#46039f"
             ],
             [
              0.2222222222222222,
              "#7201a8"
             ],
             [
              0.3333333333333333,
              "#9c179e"
             ],
             [
              0.4444444444444444,
              "#bd3786"
             ],
             [
              0.5555555555555556,
              "#d8576b"
             ],
             [
              0.6666666666666666,
              "#ed7953"
             ],
             [
              0.7777777777777778,
              "#fb9f3a"
             ],
             [
              0.8888888888888888,
              "#fdca26"
             ],
             [
              1,
              "#f0f921"
             ]
            ],
            "type": "heatmap"
           }
          ],
          "heatmapgl": [
           {
            "colorbar": {
             "outlinewidth": 0,
             "ticks": ""
            },
            "colorscale": [
             [
              0,
              "#0d0887"
             ],
             [
              0.1111111111111111,
              "#46039f"
             ],
             [
              0.2222222222222222,
              "#7201a8"
             ],
             [
              0.3333333333333333,
              "#9c179e"
             ],
             [
              0.4444444444444444,
              "#bd3786"
             ],
             [
              0.5555555555555556,
              "#d8576b"
             ],
             [
              0.6666666666666666,
              "#ed7953"
             ],
             [
              0.7777777777777778,
              "#fb9f3a"
             ],
             [
              0.8888888888888888,
              "#fdca26"
             ],
             [
              1,
              "#f0f921"
             ]
            ],
            "type": "heatmapgl"
           }
          ],
          "histogram": [
           {
            "marker": {
             "pattern": {
              "fillmode": "overlay",
              "size": 10,
              "solidity": 0.2
             }
            },
            "type": "histogram"
           }
          ],
          "histogram2d": [
           {
            "colorbar": {
             "outlinewidth": 0,
             "ticks": ""
            },
            "colorscale": [
             [
              0,
              "#0d0887"
             ],
             [
              0.1111111111111111,
              "#46039f"
             ],
             [
              0.2222222222222222,
              "#7201a8"
             ],
             [
              0.3333333333333333,
              "#9c179e"
             ],
             [
              0.4444444444444444,
              "#bd3786"
             ],
             [
              0.5555555555555556,
              "#d8576b"
             ],
             [
              0.6666666666666666,
              "#ed7953"
             ],
             [
              0.7777777777777778,
              "#fb9f3a"
             ],
             [
              0.8888888888888888,
              "#fdca26"
             ],
             [
              1,
              "#f0f921"
             ]
            ],
            "type": "histogram2d"
           }
          ],
          "histogram2dcontour": [
           {
            "colorbar": {
             "outlinewidth": 0,
             "ticks": ""
            },
            "colorscale": [
             [
              0,
              "#0d0887"
             ],
             [
              0.1111111111111111,
              "#46039f"
             ],
             [
              0.2222222222222222,
              "#7201a8"
             ],
             [
              0.3333333333333333,
              "#9c179e"
             ],
             [
              0.4444444444444444,
              "#bd3786"
             ],
             [
              0.5555555555555556,
              "#d8576b"
             ],
             [
              0.6666666666666666,
              "#ed7953"
             ],
             [
              0.7777777777777778,
              "#fb9f3a"
             ],
             [
              0.8888888888888888,
              "#fdca26"
             ],
             [
              1,
              "#f0f921"
             ]
            ],
            "type": "histogram2dcontour"
           }
          ],
          "mesh3d": [
           {
            "colorbar": {
             "outlinewidth": 0,
             "ticks": ""
            },
            "type": "mesh3d"
           }
          ],
          "parcoords": [
           {
            "line": {
             "colorbar": {
              "outlinewidth": 0,
              "ticks": ""
             }
            },
            "type": "parcoords"
           }
          ],
          "pie": [
           {
            "automargin": true,
            "type": "pie"
           }
          ],
          "scatter": [
           {
            "fillpattern": {
             "fillmode": "overlay",
             "size": 10,
             "solidity": 0.2
            },
            "type": "scatter"
           }
          ],
          "scatter3d": [
           {
            "line": {
             "colorbar": {
              "outlinewidth": 0,
              "ticks": ""
             }
            },
            "marker": {
             "colorbar": {
              "outlinewidth": 0,
              "ticks": ""
             }
            },
            "type": "scatter3d"
           }
          ],
          "scattercarpet": [
           {
            "marker": {
             "colorbar": {
              "outlinewidth": 0,
              "ticks": ""
             }
            },
            "type": "scattercarpet"
           }
          ],
          "scattergeo": [
           {
            "marker": {
             "colorbar": {
              "outlinewidth": 0,
              "ticks": ""
             }
            },
            "type": "scattergeo"
           }
          ],
          "scattergl": [
           {
            "marker": {
             "colorbar": {
              "outlinewidth": 0,
              "ticks": ""
             }
            },
            "type": "scattergl"
           }
          ],
          "scattermapbox": [
           {
            "marker": {
             "colorbar": {
              "outlinewidth": 0,
              "ticks": ""
             }
            },
            "type": "scattermapbox"
           }
          ],
          "scatterpolar": [
           {
            "marker": {
             "colorbar": {
              "outlinewidth": 0,
              "ticks": ""
             }
            },
            "type": "scatterpolar"
           }
          ],
          "scatterpolargl": [
           {
            "marker": {
             "colorbar": {
              "outlinewidth": 0,
              "ticks": ""
             }
            },
            "type": "scatterpolargl"
           }
          ],
          "scatterternary": [
           {
            "marker": {
             "colorbar": {
              "outlinewidth": 0,
              "ticks": ""
             }
            },
            "type": "scatterternary"
           }
          ],
          "surface": [
           {
            "colorbar": {
             "outlinewidth": 0,
             "ticks": ""
            },
            "colorscale": [
             [
              0,
              "#0d0887"
             ],
             [
              0.1111111111111111,
              "#46039f"
             ],
             [
              0.2222222222222222,
              "#7201a8"
             ],
             [
              0.3333333333333333,
              "#9c179e"
             ],
             [
              0.4444444444444444,
              "#bd3786"
             ],
             [
              0.5555555555555556,
              "#d8576b"
             ],
             [
              0.6666666666666666,
              "#ed7953"
             ],
             [
              0.7777777777777778,
              "#fb9f3a"
             ],
             [
              0.8888888888888888,
              "#fdca26"
             ],
             [
              1,
              "#f0f921"
             ]
            ],
            "type": "surface"
           }
          ],
          "table": [
           {
            "cells": {
             "fill": {
              "color": "#EBF0F8"
             },
             "line": {
              "color": "white"
             }
            },
            "header": {
             "fill": {
              "color": "#C8D4E3"
             },
             "line": {
              "color": "white"
             }
            },
            "type": "table"
           }
          ]
         },
         "layout": {
          "annotationdefaults": {
           "arrowcolor": "#2a3f5f",
           "arrowhead": 0,
           "arrowwidth": 1
          },
          "autotypenumbers": "strict",
          "coloraxis": {
           "colorbar": {
            "outlinewidth": 0,
            "ticks": ""
           }
          },
          "colorscale": {
           "diverging": [
            [
             0,
             "#8e0152"
            ],
            [
             0.1,
             "#c51b7d"
            ],
            [
             0.2,
             "#de77ae"
            ],
            [
             0.3,
             "#f1b6da"
            ],
            [
             0.4,
             "#fde0ef"
            ],
            [
             0.5,
             "#f7f7f7"
            ],
            [
             0.6,
             "#e6f5d0"
            ],
            [
             0.7,
             "#b8e186"
            ],
            [
             0.8,
             "#7fbc41"
            ],
            [
             0.9,
             "#4d9221"
            ],
            [
             1,
             "#276419"
            ]
           ],
           "sequential": [
            [
             0,
             "#0d0887"
            ],
            [
             0.1111111111111111,
             "#46039f"
            ],
            [
             0.2222222222222222,
             "#7201a8"
            ],
            [
             0.3333333333333333,
             "#9c179e"
            ],
            [
             0.4444444444444444,
             "#bd3786"
            ],
            [
             0.5555555555555556,
             "#d8576b"
            ],
            [
             0.6666666666666666,
             "#ed7953"
            ],
            [
             0.7777777777777778,
             "#fb9f3a"
            ],
            [
             0.8888888888888888,
             "#fdca26"
            ],
            [
             1,
             "#f0f921"
            ]
           ],
           "sequentialminus": [
            [
             0,
             "#0d0887"
            ],
            [
             0.1111111111111111,
             "#46039f"
            ],
            [
             0.2222222222222222,
             "#7201a8"
            ],
            [
             0.3333333333333333,
             "#9c179e"
            ],
            [
             0.4444444444444444,
             "#bd3786"
            ],
            [
             0.5555555555555556,
             "#d8576b"
            ],
            [
             0.6666666666666666,
             "#ed7953"
            ],
            [
             0.7777777777777778,
             "#fb9f3a"
            ],
            [
             0.8888888888888888,
             "#fdca26"
            ],
            [
             1,
             "#f0f921"
            ]
           ]
          },
          "colorway": [
           "#636efa",
           "#EF553B",
           "#00cc96",
           "#ab63fa",
           "#FFA15A",
           "#19d3f3",
           "#FF6692",
           "#B6E880",
           "#FF97FF",
           "#FECB52"
          ],
          "font": {
           "color": "#2a3f5f"
          },
          "geo": {
           "bgcolor": "white",
           "lakecolor": "white",
           "landcolor": "#E5ECF6",
           "showlakes": true,
           "showland": true,
           "subunitcolor": "white"
          },
          "hoverlabel": {
           "align": "left"
          },
          "hovermode": "closest",
          "mapbox": {
           "style": "light"
          },
          "paper_bgcolor": "white",
          "plot_bgcolor": "#E5ECF6",
          "polar": {
           "angularaxis": {
            "gridcolor": "white",
            "linecolor": "white",
            "ticks": ""
           },
           "bgcolor": "#E5ECF6",
           "radialaxis": {
            "gridcolor": "white",
            "linecolor": "white",
            "ticks": ""
           }
          },
          "scene": {
           "xaxis": {
            "backgroundcolor": "#E5ECF6",
            "gridcolor": "white",
            "gridwidth": 2,
            "linecolor": "white",
            "showbackground": true,
            "ticks": "",
            "zerolinecolor": "white"
           },
           "yaxis": {
            "backgroundcolor": "#E5ECF6",
            "gridcolor": "white",
            "gridwidth": 2,
            "linecolor": "white",
            "showbackground": true,
            "ticks": "",
            "zerolinecolor": "white"
           },
           "zaxis": {
            "backgroundcolor": "#E5ECF6",
            "gridcolor": "white",
            "gridwidth": 2,
            "linecolor": "white",
            "showbackground": true,
            "ticks": "",
            "zerolinecolor": "white"
           }
          },
          "shapedefaults": {
           "line": {
            "color": "#2a3f5f"
           }
          },
          "ternary": {
           "aaxis": {
            "gridcolor": "white",
            "linecolor": "white",
            "ticks": ""
           },
           "baxis": {
            "gridcolor": "white",
            "linecolor": "white",
            "ticks": ""
           },
           "bgcolor": "#E5ECF6",
           "caxis": {
            "gridcolor": "white",
            "linecolor": "white",
            "ticks": ""
           }
          },
          "title": {
           "x": 0.05
          },
          "xaxis": {
           "automargin": true,
           "gridcolor": "white",
           "linecolor": "white",
           "ticks": "",
           "title": {
            "standoff": 15
           },
           "zerolinecolor": "white",
           "zerolinewidth": 2
          },
          "yaxis": {
           "automargin": true,
           "gridcolor": "white",
           "linecolor": "white",
           "ticks": "",
           "title": {
            "standoff": 15
           },
           "zerolinecolor": "white",
           "zerolinewidth": 2
          }
         }
        },
        "title": {
         "text": "State"
        },
        "width": 1000,
        "xaxis": {
         "anchor": "y",
         "domain": [
          0,
          1
         ],
         "title": {
          "text": "Quarter"
         }
        },
        "yaxis": {
         "anchor": "x",
         "domain": [
          0,
          1
         ],
         "title": {
          "text": "RegisteredUsers"
         }
        }
       }
      }
     },
     "metadata": {},
     "output_type": "display_data"
    }
   ],
   "source": [
    "#top user 2\n",
    "\n",
    "def top_user_plot_2(df, state):\n",
    "    tuys = df[df['States'] == state]\n",
    "    tuys.reset_index(drop= True, inplace= True)\n",
    "\n",
    "    fig_top_plot_2 = px.bar(tuys, x= 'Quarter', y= 'RegisteredUsers', title= 'State', width= 1000, height= 800, color= 'RegisteredUsers', hover_data= ['Pincodes'], color_continuous_scale = px.colors.sequential.Magenta)\n",
    "    fig_top_plot_2.show()"
   ]
  },
  {
   "cell_type": "code",
   "execution_count": 80,
   "metadata": {},
   "outputs": [
    {
     "data": {
      "text/html": [
       "<div>\n",
       "<style scoped>\n",
       "    .dataframe tbody tr th:only-of-type {\n",
       "        vertical-align: middle;\n",
       "    }\n",
       "\n",
       "    .dataframe tbody tr th {\n",
       "        vertical-align: top;\n",
       "    }\n",
       "\n",
       "    .dataframe thead th {\n",
       "        text-align: right;\n",
       "    }\n",
       "</style>\n",
       "<table border=\"1\" class=\"dataframe\">\n",
       "  <thead>\n",
       "    <tr style=\"text-align: right;\">\n",
       "      <th></th>\n",
       "      <th>States</th>\n",
       "      <th>Years</th>\n",
       "      <th>Quarter</th>\n",
       "      <th>Pincodes</th>\n",
       "      <th>RegisteredUsers</th>\n",
       "    </tr>\n",
       "  </thead>\n",
       "  <tbody>\n",
       "    <tr>\n",
       "      <th>0</th>\n",
       "      <td>Andaman &amp; Nicobar</td>\n",
       "      <td>2021</td>\n",
       "      <td>1</td>\n",
       "      <td>744103</td>\n",
       "      <td>11416</td>\n",
       "    </tr>\n",
       "    <tr>\n",
       "      <th>1</th>\n",
       "      <td>Andaman &amp; Nicobar</td>\n",
       "      <td>2021</td>\n",
       "      <td>1</td>\n",
       "      <td>744105</td>\n",
       "      <td>9934</td>\n",
       "    </tr>\n",
       "    <tr>\n",
       "      <th>2</th>\n",
       "      <td>Andaman &amp; Nicobar</td>\n",
       "      <td>2021</td>\n",
       "      <td>1</td>\n",
       "      <td>744101</td>\n",
       "      <td>9457</td>\n",
       "    </tr>\n",
       "    <tr>\n",
       "      <th>3</th>\n",
       "      <td>Andaman &amp; Nicobar</td>\n",
       "      <td>2021</td>\n",
       "      <td>1</td>\n",
       "      <td>744102</td>\n",
       "      <td>6395</td>\n",
       "    </tr>\n",
       "    <tr>\n",
       "      <th>4</th>\n",
       "      <td>Andaman &amp; Nicobar</td>\n",
       "      <td>2021</td>\n",
       "      <td>1</td>\n",
       "      <td>744202</td>\n",
       "      <td>3005</td>\n",
       "    </tr>\n",
       "    <tr>\n",
       "      <th>...</th>\n",
       "      <td>...</td>\n",
       "      <td>...</td>\n",
       "      <td>...</td>\n",
       "      <td>...</td>\n",
       "      <td>...</td>\n",
       "    </tr>\n",
       "    <tr>\n",
       "      <th>1423</th>\n",
       "      <td>West Bengal</td>\n",
       "      <td>2021</td>\n",
       "      <td>4</td>\n",
       "      <td>700015</td>\n",
       "      <td>88070</td>\n",
       "    </tr>\n",
       "    <tr>\n",
       "      <th>1424</th>\n",
       "      <td>West Bengal</td>\n",
       "      <td>2021</td>\n",
       "      <td>4</td>\n",
       "      <td>742304</td>\n",
       "      <td>86045</td>\n",
       "    </tr>\n",
       "    <tr>\n",
       "      <th>1425</th>\n",
       "      <td>West Bengal</td>\n",
       "      <td>2021</td>\n",
       "      <td>4</td>\n",
       "      <td>721101</td>\n",
       "      <td>85333</td>\n",
       "    </tr>\n",
       "    <tr>\n",
       "      <th>1426</th>\n",
       "      <td>West Bengal</td>\n",
       "      <td>2021</td>\n",
       "      <td>4</td>\n",
       "      <td>700091</td>\n",
       "      <td>83634</td>\n",
       "    </tr>\n",
       "    <tr>\n",
       "      <th>1427</th>\n",
       "      <td>West Bengal</td>\n",
       "      <td>2021</td>\n",
       "      <td>4</td>\n",
       "      <td>700150</td>\n",
       "      <td>82669</td>\n",
       "    </tr>\n",
       "  </tbody>\n",
       "</table>\n",
       "<p>1428 rows × 5 columns</p>\n",
       "</div>"
      ],
      "text/plain": [
       "                 States  Years  Quarter  Pincodes  RegisteredUsers\n",
       "0     Andaman & Nicobar   2021        1    744103            11416\n",
       "1     Andaman & Nicobar   2021        1    744105             9934\n",
       "2     Andaman & Nicobar   2021        1    744101             9457\n",
       "3     Andaman & Nicobar   2021        1    744102             6395\n",
       "4     Andaman & Nicobar   2021        1    744202             3005\n",
       "...                 ...    ...      ...       ...              ...\n",
       "1423        West Bengal   2021        4    700015            88070\n",
       "1424        West Bengal   2021        4    742304            86045\n",
       "1425        West Bengal   2021        4    721101            85333\n",
       "1426        West Bengal   2021        4    700091            83634\n",
       "1427        West Bengal   2021        4    700150            82669\n",
       "\n",
       "[1428 rows x 5 columns]"
      ]
     },
     "execution_count": 80,
     "metadata": {},
     "output_type": "execute_result"
    }
   ],
   "source": [
    "top_user_Y"
   ]
  },
  {
   "cell_type": "code",
   "execution_count": null,
   "metadata": {},
   "outputs": [],
   "source": []
  }
 ],
 "metadata": {
  "kernelspec": {
   "display_name": "base",
   "language": "python",
   "name": "python3"
  },
  "language_info": {
   "codemirror_mode": {
    "name": "ipython",
    "version": 3
   },
   "file_extension": ".py",
   "mimetype": "text/x-python",
   "name": "python",
   "nbconvert_exporter": "python",
   "pygments_lexer": "ipython3",
   "version": "3.9.13"
  }
 },
 "nbformat": 4,
 "nbformat_minor": 2
}
